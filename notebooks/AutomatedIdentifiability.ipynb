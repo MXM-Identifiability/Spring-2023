{
 "cells": [
  {
   "attachments": {},
   "cell_type": "markdown",
   "metadata": {},
   "source": [
    "### Automation of Identifiability Computations"
   ]
  },
  {
   "cell_type": "code",
   "execution_count": 3,
   "metadata": {
    "collapsed": false
   },
   "outputs": [],
   "source": [
    "from sympy import *\n",
    "import copy\n",
    "init_printing(use_unicode=True)"
   ]
  },
  {
   "cell_type": "code",
   "execution_count": 4,
   "metadata": {
    "collapsed": false
   },
   "outputs": [],
   "source": [
    "ddt = symbols('ddt')\n",
    "a = IndexedBase('a')\n",
    "b = IndexedBase('b')\n",
    "k = symbols('k')"
   ]
  },
  {
   "cell_type": "code",
   "execution_count": 5,
   "metadata": {
    "collapsed": false
   },
   "outputs": [],
   "source": [
    "def parametersFromEdges(edges):\n",
    "    # edges = [[1 ->], [2 ->], ..., [n ->]], that is, spot i-1 in the list has a list of outgoing edges from compartment i\n",
    "    n = len(edges)\n",
    "    parameters = []\n",
    "    for i in range(n):\n",
    "        for j in edges[i]:\n",
    "            parameters.append(a[j,i+1])\n",
    "    return parameters"
   ]
  },
  {
   "cell_type": "code",
   "execution_count": 6,
   "metadata": {
    "collapsed": false
   },
   "outputs": [],
   "source": [
    "def compartmentalMatrix(edges):\n",
    "    # edges = [[1 ->], [2 ->], ..., [n ->]]\n",
    "    n = len(edges)\n",
    "    A = zeros(n,n)\n",
    "    for i in range(n):\n",
    "        ai = []\n",
    "        for j in edges[i]:\n",
    "            if j!=0:\n",
    "                A[i,j-1] = a[i+1,j]\n",
    "            ai.append(-a[j,i+1])\n",
    "        A[i,i] = sum(ai)\n",
    "    return A"
   ]
  },
  {
   "cell_type": "code",
   "execution_count": 7,
   "metadata": {
    "collapsed": false
   },
   "outputs": [],
   "source": [
    "def inputOutput(A,i,j,L,leak): #A: compartmental matrix, i: input, j: output, L: distance (on graph) from i to j, leak: 1 if there are leaks, 0 if there are no leaks\n",
    "    n = A.shape[0]\n",
    "    dA = ddt*eye(n) - A\n",
    "    dAij = copy.deepcopy(dA)\n",
    "    dAij.row_del(i-1)\n",
    "    dAij.col_del(j-1)\n",
    "    ycoeffs = Poly(det(dA),ddt).coeffs()\n",
    "    ucoeffs = Poly(det(dAij),ddt).coeffs()\n",
    "    ycoeffs.remove(1)\n",
    "    if L==0:\n",
    "        ucoeffs.remove(1)\n",
    "    return ycoeffs + ucoeffs\n",
    "    print(ycoeffs,ucoeffs)\n",
    "    #if leak == 1:\n",
    "    #    nontrivycoeffs = ycoeffs[1:n+1]\n",
    "    #if leak == 0:\n",
    "    #    nontrivycoeffs = ycoeffs[1:n]\n",
    "    #if L == 0:\n",
    "    #    nontrivucoeffs = ucoeffs[1:n]\n",
    "    #if L != 0:\n",
    "    #    nontrivucoeffs = ucoeffs\n",
    "    #print(nontrivycoeffs,nontrivucoeffs)"
   ]
  },
  {
   "cell_type": "code",
   "execution_count": 8,
   "metadata": {
    "collapsed": false
   },
   "outputs": [],
   "source": [
    "def modelJacobian(p,c):\n",
    "    return Matrix(c).jacobian(Matrix(p))"
   ]
  },
  {
   "cell_type": "code",
   "execution_count": 9,
   "metadata": {
    "collapsed": false
   },
   "outputs": [],
   "source": [
    "def isIdentifiable(edges,i,j,L,leak):\n",
    "    p = parametersFromEdges(edges)\n",
    "    A = compartmentalMatrix(edges)\n",
    "    c = inputOutput(A,i,j,L,leak)\n",
    "    J = modelJacobian(p,c)\n",
    "    return J.rank() == J.shape[1]"
   ]
  },
  {
   "cell_type": "markdown",
   "metadata": {
    "collapsed": false
   },
   "source": [
    "### Example below here!"
   ]
  },
  {
   "cell_type": "code",
   "execution_count": 72,
   "metadata": {
    "collapsed": false
   },
   "outputs": [
    {
     "data": {
      "text/latex": [
       "$\\displaystyle \\left[\\begin{matrix}- {a}_{2,1} & {a}_{1,2} & 0\\\\{a}_{2,1} & - {a}_{0,2} - {a}_{1,2} - {a}_{3,2} & {a}_{2,3}\\\\0 & {a}_{3,2} & - {a}_{0,3} - {a}_{2,3}\\end{matrix}\\right]$"
      ],
      "text/plain": [
       "⎡-a[2, 1]            a[1, 2]                     0         ⎤\n",
       "⎢                                                          ⎥\n",
       "⎢a[2, 1]   -a[0, 2] - a[1, 2] - a[3, 2]       a[2, 3]      ⎥\n",
       "⎢                                                          ⎥\n",
       "⎣   0                a[3, 2]             -a[0, 3] - a[2, 3]⎦"
      ]
     },
     "execution_count": 72,
     "metadata": {},
     "output_type": "execute_result"
    }
   ],
   "source": [
    "A = compartmentalMatrix([[2],[0,1,3],[2,0]]) \n",
    "A"
   ]
  },
  {
   "cell_type": "code",
   "execution_count": 44,
   "metadata": {
    "collapsed": false
   },
   "outputs": [
    {
     "data": {
      "image/png": "[encoded data removed]",
      "text/latex": [
       "$\\displaystyle \\left[ {a}_{0,2} + {a}_{0,3} + {a}_{1,2} + {a}_{2,1} + {a}_{2,3} + {a}_{3,2}, \\  {a}_{0,2} {a}_{0,3} + {a}_{0,2} {a}_{2,1} + {a}_{0,2} {a}_{2,3} + {a}_{0,3} {a}_{1,2} + {a}_{0,3} {a}_{2,1} + {a}_{0,3} {a}_{3,2} + {a}_{1,2} {a}_{2,3} + {a}_{2,1} {a}_{2,3} + {a}_{2,1} {a}_{3,2}, \\  {a}_{0,2} {a}_{0,3} {a}_{2,1} + {a}_{0,2} {a}_{2,1} {a}_{2,3} + {a}_{0,3} {a}_{2,1} {a}_{3,2}, \\  {a}_{0,2} + {a}_{0,3} + {a}_{1,2} + {a}_{2,3} + {a}_{3,2}, \\  {a}_{0,2} {a}_{0,3} + {a}_{0,2} {a}_{2,3} + {a}_{0,3} {a}_{1,2} + {a}_{0,3} {a}_{3,2} + {a}_{1,2} {a}_{2,3}\\right]$"
      ],
      "text/plain": [
       "[a[0, 2] + a[0, 3] + a[1, 2] + a[2, 1] + a[2, 3] + a[3, 2], a[0, 2]⋅a[0, 3] + \n",
       "a[0, 2]⋅a[2, 1] + a[0, 2]⋅a[2, 3] + a[0, 3]⋅a[1, 2] + a[0, 3]⋅a[2, 1] + a[0, 3\n",
       "]⋅a[3, 2] + a[1, 2]⋅a[2, 3] + a[2, 1]⋅a[2, 3] + a[2, 1]⋅a[3, 2], a[0, 2]⋅a[0, \n",
       "3]⋅a[2, 1] + a[0, 2]⋅a[2, 1]⋅a[2, 3] + a[0, 3]⋅a[2, 1]⋅a[3, 2], a[0, 2] + a[0,\n",
       " 3] + a[1, 2] + a[2, 3] + a[3, 2], a[0, 2]⋅a[0, 3] + a[0, 2]⋅a[2, 3] + a[0, 3]\n",
       "⋅a[1, 2] + a[0, 3]⋅a[3, 2] + a[1, 2]⋅a[2, 3]]"
      ]
     },
     "execution_count": 44,
     "metadata": {},
     "output_type": "execute_result"
    }
   ],
   "source": [
    "c = inputOutput(A,1,1,0,1)\n",
    "c"
   ]
  },
  {
   "cell_type": "code",
   "execution_count": 10,
   "metadata": {
    "collapsed": false
   },
   "outputs": [],
   "source": [
    "c2 = poly(c[0]) #ci/di is the coefficient of ith derivative of y/u\n",
    "c1 = poly(c[1])\n",
    "c0 = poly(c[2])\n",
    "d1 = poly(c[3])\n",
    "d0 = poly(c[4])"
   ]
  },
  {
   "cell_type": "code",
   "execution_count": 11,
   "metadata": {
    "collapsed": false
   },
   "outputs": [],
   "source": [
    "x = (b[0,1]-(k-1)*b[2,1],b[0,3]+b[1,2]*(k-1)/k,b[1,2]/k,k*b[2,1],b[2,3]+b[1,2]/k,b[3,2]-b[1,2]/k)"
   ]
  },
  {
   "cell_type": "code",
   "execution_count": 12,
   "metadata": {
    "collapsed": false
   },
   "outputs": [
    {
     "data": {
      "image/png": "[encoded data removed]",
      "text/latex": [
       "$\\displaystyle {b}_{0,1} + {b}_{0,3} + {b}_{1,2} + {b}_{2,1} + {b}_{2,3} + {b}_{3,2}$"
      ],
      "text/plain": [
       "b[0, 1] + b[0, 3] + b[1, 2] + b[2, 1] + b[2, 3] + b[3, 2]"
      ]
     },
     "execution_count": 12,
     "metadata": {},
     "output_type": "execute_result"
    }
   ],
   "source": [
    "simplify(c2.eval(x))"
   ]
  },
  {
   "cell_type": "code",
   "execution_count": 13,
   "metadata": {
    "collapsed": false
   },
   "outputs": [
    {
     "data": {
      "image/png": "[encoded data removed]",
      "text/latex": [
       "$\\displaystyle {b}_{0,3} + {b}_{1,2} + {b}_{2,3} + {b}_{3,2}$"
      ],
      "text/plain": [
       "b[0, 3] + b[1, 2] + b[2, 3] + b[3, 2]"
      ]
     },
     "execution_count": 13,
     "metadata": {},
     "output_type": "execute_result"
    }
   ],
   "source": [
    "simplify(d1.eval((x[1],x[2],x[4],x[5])))"
   ]
  },
  {
   "cell_type": "code",
   "execution_count": 14,
   "metadata": {
    "collapsed": false
   },
   "outputs": [
    {
     "data": {
      "image/png": "[encoded data removed]",
      "text/latex": [
       "$\\displaystyle \\operatorname{Poly}{\\left( {a}_{0,3} + {a}_{1,2} + {a}_{2,3} + {a}_{3,2}, {a}_{0,3}, {a}_{1,2}, {a}_{2,3}, {a}_{3,2}, domain=\\mathbb{Z} \\right)}$"
      ],
      "text/plain": [
       "Poly(a[0, 3] + a[1, 2] + a[2, 3] + a[3, 2], a[0, 3], a[1, 2], a[2, 3], a[3, 2]\n",
       ", domain='ZZ')"
      ]
     },
     "execution_count": 14,
     "metadata": {},
     "output_type": "execute_result"
    }
   ],
   "source": [
    "d1"
   ]
  },
  {
   "cell_type": "code",
   "execution_count": 15,
   "metadata": {
    "collapsed": false,
    "scrolled": true
   },
   "outputs": [
    {
     "data": {
      "image/png": "[encoded data removed]",
      "text/latex": [
       "$\\displaystyle {b}_{0,1} {b}_{0,3} + {b}_{0,1} {b}_{1,2} + {b}_{0,1} {b}_{2,3} + {b}_{0,1} {b}_{3,2} + {b}_{0,3} {b}_{2,1} + {b}_{0,3} {b}_{3,2} + {b}_{1,2} {b}_{3,2} + {b}_{2,1} {b}_{2,3} + {b}_{2,1} {b}_{3,2} + \\frac{{b}_{1,2} {b}_{2,3}}{k} - \\frac{{b}_{1,2} {b}_{3,2}}{k} + \\frac{{b}_{1,2}^{2}}{k^{2}}$"
      ],
      "text/plain": [
       "                                                                              \n",
       "                                                                              \n",
       "b[0, 1]⋅b[0, 3] + b[0, 1]⋅b[1, 2] + b[0, 1]⋅b[2, 3] + b[0, 1]⋅b[3, 2] + b[0, 3\n",
       "                                                                              \n",
       "                                                                              \n",
       "\n",
       "                                                                              \n",
       "                                                                              \n",
       "]⋅b[2, 1] + b[0, 3]⋅b[3, 2] + b[1, 2]⋅b[3, 2] + b[2, 1]⋅b[2, 3] + b[2, 1]⋅b[3,\n",
       "                                                                              \n",
       "                                                                              \n",
       "\n",
       "                                                 2\n",
       "      b[1, 2]⋅b[2, 3]   b[1, 2]⋅b[3, 2]   b[1, 2] \n",
       " 2] + ─────────────── - ─────────────── + ────────\n",
       "             k                 k              2   \n",
       "                                             k    "
      ]
     },
     "execution_count": 15,
     "metadata": {},
     "output_type": "execute_result"
    }
   ],
   "source": [
    "(c1.eval(x))"
   ]
  },
  {
   "cell_type": "code",
   "execution_count": 16,
   "metadata": {
    "collapsed": false
   },
   "outputs": [
    {
     "data": {
      "image/png": "[encoded data removed]",
      "text/latex": [
       "$\\displaystyle {b}_{0,1} {b}_{0,3} {b}_{3,2} + {b}_{0,1} {b}_{1,2} {b}_{3,2} - {b}_{0,3} {b}_{1,2} {b}_{2,1} + {b}_{0,3} {b}_{2,1} {b}_{3,2} - {b}_{1,2}^{2} {b}_{2,1} - {b}_{1,2} {b}_{2,1} {b}_{2,3} + {b}_{1,2} {b}_{2,1} {b}_{3,2} + \\frac{{b}_{0,1} {b}_{1,2} {b}_{2,3}}{k} - \\frac{{b}_{0,1} {b}_{1,2} {b}_{3,2}}{k} + \\frac{{b}_{1,2} {b}_{2,1} {b}_{2,3}}{k} - \\frac{{b}_{1,2} {b}_{2,1} {b}_{3,2}}{k} + \\frac{{b}_{0,1} {b}_{1,2}^{2}}{k^{2}} + \\frac{{b}_{1,2}^{2} {b}_{2,1}}{k^{2}}$"
      ],
      "text/plain": [
       "                                                                              \n",
       "                                                                              \n",
       "b[0, 1]⋅b[0, 3]⋅b[3, 2] + b[0, 1]⋅b[1, 2]⋅b[3, 2] - b[0, 3]⋅b[1, 2]⋅b[2, 1] + \n",
       "                                                                              \n",
       "                                                                              \n",
       "\n",
       "                                                                              \n",
       "                                 2                                            \n",
       "b[0, 3]⋅b[2, 1]⋅b[3, 2] - b[1, 2] ⋅b[2, 1] - b[1, 2]⋅b[2, 1]⋅b[2, 3] + b[1, 2]\n",
       "                                                                              \n",
       "                                                                              \n",
       "\n",
       "                                                                              \n",
       "                   b[0, 1]⋅b[1, 2]⋅b[2, 3]   b[0, 1]⋅b[1, 2]⋅b[3, 2]   b[1, 2]\n",
       "⋅b[2, 1]⋅b[3, 2] + ─────────────────────── - ─────────────────────── + ───────\n",
       "                              k                         k                     \n",
       "                                                                              \n",
       "\n",
       "                                                            2          2      \n",
       "⋅b[2, 1]⋅b[2, 3]   b[1, 2]⋅b[2, 1]⋅b[3, 2]   b[0, 1]⋅b[1, 2]    b[1, 2] ⋅b[2, \n",
       "──────────────── - ─────────────────────── + ──────────────── + ──────────────\n",
       "    k                         k                      2                  2     \n",
       "                                                    k                  k      \n",
       "\n",
       "  \n",
       "1]\n",
       "──\n",
       "  \n",
       "  "
      ]
     },
     "execution_count": 16,
     "metadata": {},
     "output_type": "execute_result"
    }
   ],
   "source": [
    "(c0.eval(x))"
   ]
  },
  {
   "cell_type": "code",
   "execution_count": 17,
   "metadata": {
    "collapsed": false
   },
   "outputs": [
    {
     "data": {
      "image/png": "[encoded data removed]",
      "text/latex": [
       "$\\displaystyle {b}_{0,3} {b}_{3,2} + {b}_{1,2} {b}_{3,2} + \\frac{{b}_{1,2} {b}_{2,3}}{k} - \\frac{{b}_{1,2} {b}_{3,2}}{k} + \\frac{{b}_{1,2}^{2}}{k^{2}}$"
      ],
      "text/plain": [
       "                                                                              \n",
       "                                    b[1, 2]⋅b[2, 3]   b[1, 2]⋅b[3, 2]   b[1, 2\n",
       "b[0, 3]⋅b[3, 2] + b[1, 2]⋅b[3, 2] + ─────────────── - ─────────────── + ──────\n",
       "                                           k                 k              2 \n",
       "                                                                           k  \n",
       "\n",
       " 2\n",
       "] \n",
       "──\n",
       "  \n",
       "  "
      ]
     },
     "execution_count": 17,
     "metadata": {},
     "output_type": "execute_result"
    }
   ],
   "source": [
    "(d0.eval((x[1],x[2],x[4],x[5])))"
   ]
  },
  {
   "cell_type": "code",
   "execution_count": 62,
   "metadata": {},
   "outputs": [
    {
     "data": {
      "image/png": "[encoded data removed]",
      "text/latex": [
       "$\\displaystyle \\left[ {a}_{2,1}, \\  {a}_{0,2}, \\  {a}_{1,2}, \\  {a}_{3,2}, \\  {a}_{2,3}, \\  {a}_{0,3}\\right]$"
      ],
      "text/plain": [
       "[a[2, 1], a[0, 2], a[1, 2], a[3, 2], a[2, 3], a[0, 3]]"
      ]
     },
     "execution_count": 62,
     "metadata": {},
     "output_type": "execute_result"
    }
   ],
   "source": [
    "p = parametersFromEdges([[2],[0,1,3],[2,0]])\n",
    "p"
   ]
  },
  {
   "cell_type": "code",
   "execution_count": 63,
   "metadata": {
    "collapsed": false,
    "scrolled": true
   },
   "outputs": [
    {
     "data": {
      "text/latex": [
       "$\\displaystyle \\left[\\begin{matrix}1 & 1 & 1 & 1 & 1 & 1\\\\{a}_{0,2} + {a}_{0,3} + {a}_{2,3} + {a}_{3,2} & {a}_{0,3} + {a}_{2,1} + {a}_{2,3} & {a}_{0,3} + {a}_{2,3} & {a}_{0,3} + {a}_{2,1} & {a}_{0,2} + {a}_{1,2} + {a}_{2,1} & {a}_{0,2} + {a}_{1,2} + {a}_{2,1} + {a}_{3,2}\\\\{a}_{0,2} {a}_{0,3} + {a}_{0,2} {a}_{2,3} + {a}_{0,3} {a}_{3,2} & {a}_{0,3} {a}_{2,1} + {a}_{2,1} {a}_{2,3} & 0 & {a}_{0,3} {a}_{2,1} & {a}_{0,2} {a}_{2,1} & {a}_{0,2} {a}_{2,1} + {a}_{2,1} {a}_{3,2}\\\\0 & 1 & 1 & 1 & 1 & 1\\\\0 & {a}_{0,3} + {a}_{2,3} & {a}_{0,3} + {a}_{2,3} & {a}_{0,3} & {a}_{0,2} + {a}_{1,2} & {a}_{0,2} + {a}_{1,2} + {a}_{3,2}\\end{matrix}\\right]$"
      ],
      "text/plain": [
       "⎡                         1                                           1       \n",
       "⎢                                                                             \n",
       "⎢       a[0, 2] + a[0, 3] + a[2, 3] + a[3, 2]            a[0, 3] + a[2, 1] + a\n",
       "⎢                                                                             \n",
       "⎢a[0, 2]⋅a[0, 3] + a[0, 2]⋅a[2, 3] + a[0, 3]⋅a[3, 2]  a[0, 3]⋅a[2, 1] + a[2, 1\n",
       "⎢                                                                             \n",
       "⎢                         0                                           1       \n",
       "⎢                                                                             \n",
       "⎣                         0                                   a[0, 3] + a[2, 3\n",
       "\n",
       "                   1                  1                       1               \n",
       "                                                                              \n",
       "[2, 3]     a[0, 3] + a[2, 3]  a[0, 3] + a[2, 1]  a[0, 2] + a[1, 2] + a[2, 1]  \n",
       "                                                                              \n",
       "]⋅a[2, 3]          0           a[0, 3]⋅a[2, 1]         a[0, 2]⋅a[2, 1]        \n",
       "                                                                              \n",
       "                   1                  1                       1               \n",
       "                                                                              \n",
       "]          a[0, 3] + a[2, 3]       a[0, 3]            a[0, 2] + a[1, 2]       \n",
       "\n",
       "                  1                  ⎤\n",
       "                                     ⎥\n",
       "a[0, 2] + a[1, 2] + a[2, 1] + a[3, 2]⎥\n",
       "                                     ⎥\n",
       "  a[0, 2]⋅a[2, 1] + a[2, 1]⋅a[3, 2]  ⎥\n",
       "                                     ⎥\n",
       "                  1                  ⎥\n",
       "                                     ⎥\n",
       "     a[0, 2] + a[1, 2] + a[3, 2]     ⎦"
      ]
     },
     "execution_count": 63,
     "metadata": {},
     "output_type": "execute_result"
    }
   ],
   "source": [
    "J = modelJacobian(p,c) \n",
    "J"
   ]
  },
  {
   "cell_type": "code",
   "execution_count": 64,
   "metadata": {
    "collapsed": false,
    "scrolled": true
   },
   "outputs": [
    {
     "data": {
      "image/png": "[encoded data removed]",
      "text/latex": [
       "$\\displaystyle 5$"
      ],
      "text/plain": [
       "5"
      ]
     },
     "execution_count": 64,
     "metadata": {},
     "output_type": "execute_result"
    }
   ],
   "source": [
    "J.rank()"
   ]
  },
  {
   "cell_type": "code",
   "execution_count": 69,
   "metadata": {},
   "outputs": [
    {
     "data": {
      "text/latex": [
       "$\\displaystyle \\left[\\begin{matrix}1 & 1 & 1 & 1 & 1 & 1\\\\{a}_{0,2} + {a}_{0,3} + {a}_{2,3} + {a}_{3,2} & {a}_{0,3} + {a}_{2,1} + {a}_{2,3} & {a}_{0,3} + {a}_{2,3} & {a}_{0,3} + {a}_{2,1} & {a}_{0,2} + {a}_{1,2} + {a}_{2,1} & {a}_{0,2} + {a}_{1,2} + {a}_{2,1} + {a}_{3,2}\\\\{a}_{0,2} {a}_{0,3} + {a}_{0,2} {a}_{2,3} + {a}_{0,3} {a}_{3,2} & {a}_{0,3} {a}_{2,1} + {a}_{2,1} {a}_{2,3} & 0 & {a}_{0,3} {a}_{2,1} & {a}_{0,2} {a}_{2,1} & {a}_{0,2} {a}_{2,1} + {a}_{2,1} {a}_{3,2}\\\\0 & 1 & 1 & 1 & 1 & 1\\\\0 & {a}_{0,3} + {a}_{2,3} & {a}_{0,3} + {a}_{2,3} & {a}_{0,3} & {a}_{0,2} + {a}_{1,2} & {a}_{0,2} + {a}_{1,2} + {a}_{3,2}\\\\0 & 0 & 1 & 0 & 0 & 0\\end{matrix}\\right]$"
      ],
      "text/plain": [
       "⎡                         1                                           1       \n",
       "⎢                                                                             \n",
       "⎢       a[0, 2] + a[0, 3] + a[2, 3] + a[3, 2]            a[0, 3] + a[2, 1] + a\n",
       "⎢                                                                             \n",
       "⎢a[0, 2]⋅a[0, 3] + a[0, 2]⋅a[2, 3] + a[0, 3]⋅a[3, 2]  a[0, 3]⋅a[2, 1] + a[2, 1\n",
       "⎢                                                                             \n",
       "⎢                         0                                           1       \n",
       "⎢                                                                             \n",
       "⎢                         0                                   a[0, 3] + a[2, 3\n",
       "⎢                                                                             \n",
       "⎣                         0                                           0       \n",
       "\n",
       "                   1                  1                       1               \n",
       "                                                                              \n",
       "[2, 3]     a[0, 3] + a[2, 3]  a[0, 3] + a[2, 1]  a[0, 2] + a[1, 2] + a[2, 1]  \n",
       "                                                                              \n",
       "]⋅a[2, 3]          0           a[0, 3]⋅a[2, 1]         a[0, 2]⋅a[2, 1]        \n",
       "                                                                              \n",
       "                   1                  1                       1               \n",
       "                                                                              \n",
       "]          a[0, 3] + a[2, 3]       a[0, 3]            a[0, 2] + a[1, 2]       \n",
       "                                                                              \n",
       "                   1                  0                       0               \n",
       "\n",
       "                  1                  ⎤\n",
       "                                     ⎥\n",
       "a[0, 2] + a[1, 2] + a[2, 1] + a[3, 2]⎥\n",
       "                                     ⎥\n",
       "  a[0, 2]⋅a[2, 1] + a[2, 1]⋅a[3, 2]  ⎥\n",
       "                                     ⎥\n",
       "                  1                  ⎥\n",
       "                                     ⎥\n",
       "     a[0, 2] + a[1, 2] + a[3, 2]     ⎥\n",
       "                                     ⎥\n",
       "                  0                  ⎦"
      ]
     },
     "execution_count": 69,
     "metadata": {},
     "output_type": "execute_result"
    }
   ],
   "source": [
    "newJ = J.col_join(Matrix([[0,0,1,0,0,0]]))\n",
    "newJ"
   ]
  },
  {
   "cell_type": "code",
   "execution_count": 70,
   "metadata": {},
   "outputs": [
    {
     "data": {
      "image/png": "[encoded data removed]",
      "text/latex": [
       "$\\displaystyle 5$"
      ],
      "text/plain": [
       "5"
      ]
     },
     "execution_count": 70,
     "metadata": {},
     "output_type": "execute_result"
    }
   ],
   "source": [
    "newJ.rank()"
   ]
  },
  {
   "cell_type": "code",
   "execution_count": 25,
   "metadata": {
    "collapsed": false
   },
   "outputs": [
    {
     "data": {
      "image/png": "[encoded data removed]",
      "text/latex": [
       "$\\displaystyle {a}_{1,2}^{2} {a}_{2,1} {a}_{2,3}$"
      ],
      "text/plain": [
       "       2                \n",
       "a[1, 2] ⋅a[2, 1]⋅a[2, 3]"
      ]
     },
     "execution_count": 25,
     "metadata": {},
     "output_type": "execute_result"
    }
   ],
   "source": [
    "det(J[:,[0,1,2,3,4]]) #excluding da23/dt column"
   ]
  },
  {
   "cell_type": "code",
   "execution_count": 26,
   "metadata": {
    "collapsed": false
   },
   "outputs": [
    {
     "data": {
      "image/png": "[encoded data removed]",
      "text/latex": [
       "$\\displaystyle {a}_{1,2}^{2} {a}_{2,1} {a}_{2,3}$"
      ],
      "text/plain": [
       "       2                \n",
       "a[1, 2] ⋅a[2, 1]⋅a[2, 3]"
      ]
     },
     "execution_count": 26,
     "metadata": {},
     "output_type": "execute_result"
    }
   ],
   "source": [
    "det(J[:,[0,1,2,3,5]]) #excluding da02/dt column"
   ]
  },
  {
   "cell_type": "code",
   "execution_count": 27,
   "metadata": {
    "collapsed": false
   },
   "outputs": [
    {
     "data": {
      "image/png": "[encoded data removed]",
      "text/latex": [
       "$\\displaystyle {a}_{1,2}^{2} {a}_{2,1} {a}_{3,2}$"
      ],
      "text/plain": [
       "       2                \n",
       "a[1, 2] ⋅a[2, 1]⋅a[3, 2]"
      ]
     },
     "execution_count": 27,
     "metadata": {},
     "output_type": "execute_result"
    }
   ],
   "source": [
    "det(J[:,[0,1,2,4,5]]) #excluding da32/d2 column"
   ]
  },
  {
   "cell_type": "code",
   "execution_count": 28,
   "metadata": {
    "collapsed": false
   },
   "outputs": [
    {
     "data": {
      "image/png": "[encoded data removed]",
      "text/latex": [
       "$\\displaystyle {a}_{1,2}^{2} {a}_{2,1} {a}_{3,2}$"
      ],
      "text/plain": [
       "       2                \n",
       "a[1, 2] ⋅a[2, 1]⋅a[3, 2]"
      ]
     },
     "execution_count": 28,
     "metadata": {},
     "output_type": "execute_result"
    }
   ],
   "source": [
    "det(J[:,[0,1,3,4,5]]) #excluding da12/dt column"
   ]
  },
  {
   "cell_type": "code",
   "execution_count": 29,
   "metadata": {
    "collapsed": false
   },
   "outputs": [
    {
     "data": {
      "image/png": "[encoded data removed]",
      "text/latex": [
       "$\\displaystyle - {a}_{1,2} {a}_{2,1}^{2} {a}_{3,2}$"
      ],
      "text/plain": [
       "                2        \n",
       "-a[1, 2]⋅a[2, 1] ⋅a[3, 2]"
      ]
     },
     "execution_count": 29,
     "metadata": {},
     "output_type": "execute_result"
    }
   ],
   "source": [
    "det(J[:,[0,2,3,4,5]]) #excluding da01/dt column"
   ]
  },
  {
   "cell_type": "code",
   "execution_count": 30,
   "metadata": {
    "collapsed": false
   },
   "outputs": [
    {
     "data": {
      "image/png": "[encoded data removed]",
      "text/latex": [
       "$\\displaystyle - {a}_{1,2} {a}_{2,1}^{2} {a}_{3,2}$"
      ],
      "text/plain": [
       "                2        \n",
       "-a[1, 2]⋅a[2, 1] ⋅a[3, 2]"
      ]
     },
     "execution_count": 30,
     "metadata": {},
     "output_type": "execute_result"
    }
   ],
   "source": [
    "det(J[:,[1,2,3,4,5]]) #excluding da21/dt column"
   ]
  },
  {
   "cell_type": "markdown",
   "metadata": {
    "collapsed": false
   },
   "source": [
    "The Jacobian minors that are zero are the ones where I exclude the column where I take the derivative with respect to $a_{2,3}$ or $a_{3,2}$."
   ]
  },
  {
   "cell_type": "markdown",
   "metadata": {
    "collapsed": false
   },
   "source": [
    "## BELOW IS FOO"
   ]
  },
  {
   "cell_type": "markdown",
   "metadata": {
    "collapsed": false
   },
   "source": [
    "Example below here is Model 1 from homework sheet."
   ]
  },
  {
   "cell_type": "code",
   "execution_count": null,
   "metadata": {
    "collapsed": false
   },
   "outputs": [],
   "source": [
    "p = parametersFromEdges([[0,2],[0,1,3],[2]])\n",
    "p"
   ]
  },
  {
   "cell_type": "code",
   "execution_count": null,
   "metadata": {
    "collapsed": false
   },
   "outputs": [],
   "source": [
    "A = compartmentalMatrix([[0,2],[0,1,3],[2]])\n",
    "A"
   ]
  },
  {
   "cell_type": "code",
   "execution_count": null,
   "metadata": {
    "collapsed": false
   },
   "outputs": [],
   "source": [
    "c = inputOutput(A,1,2,1,1)\n",
    "c"
   ]
  },
  {
   "cell_type": "code",
   "execution_count": null,
   "metadata": {
    "collapsed": false
   },
   "outputs": [],
   "source": [
    "J = modelJacobian(p,c)\n",
    "J"
   ]
  },
  {
   "cell_type": "code",
   "execution_count": null,
   "metadata": {
    "collapsed": false
   },
   "outputs": [],
   "source": [
    "J.rank() == J.shape[1]"
   ]
  },
  {
   "cell_type": "code",
   "execution_count": 10,
   "metadata": {},
   "outputs": [
    {
     "data": {
      "text/latex": [
       "$\\displaystyle \\left[\\begin{matrix}- {a}_{2,1} & {a}_{1,2} & 0 & 0\\\\{a}_{2,1} & - {a}_{0,2} - {a}_{1,2} - {a}_{3,2} & {a}_{2,3} & 0\\\\0 & {a}_{3,2} & - {a}_{2,3} - {a}_{4,3} & {a}_{3,4}\\\\0 & 0 & {a}_{4,3} & - {a}_{0,4} - {a}_{3,4}\\end{matrix}\\right]$"
      ],
      "text/plain": [
       "⎡-a[2, 1]            a[1, 2]                     0                   0        \n",
       "⎢                                                                             \n",
       "⎢a[2, 1]   -a[0, 2] - a[1, 2] - a[3, 2]       a[2, 3]                0        \n",
       "⎢                                                                             \n",
       "⎢   0                a[3, 2]             -a[2, 3] - a[4, 3]       a[3, 4]     \n",
       "⎢                                                                             \n",
       "⎣   0                   0                     a[4, 3]        -a[0, 4] - a[3, 4\n",
       "\n",
       " ⎤\n",
       " ⎥\n",
       " ⎥\n",
       " ⎥\n",
       " ⎥\n",
       " ⎥\n",
       "]⎦"
      ]
     },
     "execution_count": 10,
     "metadata": {},
     "output_type": "execute_result"
    }
   ],
   "source": [
    "A = compartmentalMatrix([[2],[1,0,3],[2,4],[0,3]])\n",
    "A"
   ]
  },
  {
   "cell_type": "code",
   "execution_count": 11,
   "metadata": {},
   "outputs": [
    {
     "data": {
      "image/png": "[encoded data removed]",
      "text/latex": [
       "$\\displaystyle \\left[ {a}_{0,2} + {a}_{0,4} + {a}_{1,2} + {a}_{2,1} + {a}_{2,3} + {a}_{3,2} + {a}_{3,4} + {a}_{4,3}, \\  {a}_{0,2} {a}_{0,4} + {a}_{0,2} {a}_{2,1} + {a}_{0,2} {a}_{2,3} + {a}_{0,2} {a}_{3,4} + {a}_{0,2} {a}_{4,3} + {a}_{0,4} {a}_{1,2} + {a}_{0,4} {a}_{2,1} + {a}_{0,4} {a}_{2,3} + {a}_{0,4} {a}_{3,2} + {a}_{0,4} {a}_{4,3} + {a}_{1,2} {a}_{2,3} + {a}_{1,2} {a}_{3,4} + {a}_{1,2} {a}_{4,3} + {a}_{2,1} {a}_{2,3} + {a}_{2,1} {a}_{3,2} + {a}_{2,1} {a}_{3,4} + {a}_{2,1} {a}_{4,3} + {a}_{2,3} {a}_{3,4} + {a}_{3,2} {a}_{3,4} + {a}_{3,2} {a}_{4,3}, \\  {a}_{0,2} {a}_{0,4} {a}_{2,1} + {a}_{0,2} {a}_{0,4} {a}_{2,3} + {a}_{0,2} {a}_{0,4} {a}_{4,3} + {a}_{0,2} {a}_{2,1} {a}_{2,3} + {a}_{0,2} {a}_{2,1} {a}_{3,4} + {a}_{0,2} {a}_{2,1} {a}_{4,3} + {a}_{0,2} {a}_{2,3} {a}_{3,4} + {a}_{0,4} {a}_{1,2} {a}_{2,3} + {a}_{0,4} {a}_{1,2} {a}_{4,3} + {a}_{0,4} {a}_{2,1} {a}_{2,3} + {a}_{0,4} {a}_{2,1} {a}_{3,2} + {a}_{0,4} {a}_{2,1} {a}_{4,3} + {a}_{0,4} {a}_{3,2} {a}_{4,3} + {a}_{1,2} {a}_{2,3} {a}_{3,4} + {a}_{2,1} {a}_{2,3} {a}_{3,4} + {a}_{2,1} {a}_{3,2} {a}_{3,4} + {a}_{2,1} {a}_{3,2} {a}_{4,3}, \\  {a}_{0,2} {a}_{0,4} {a}_{2,1} {a}_{2,3} + {a}_{0,2} {a}_{0,4} {a}_{2,1} {a}_{4,3} + {a}_{0,2} {a}_{2,1} {a}_{2,3} {a}_{3,4} + {a}_{0,4} {a}_{2,1} {a}_{3,2} {a}_{4,3}, \\  {a}_{0,2} + {a}_{0,4} + {a}_{1,2} + {a}_{2,3} + {a}_{3,2} + {a}_{3,4} + {a}_{4,3}, \\  {a}_{0,2} {a}_{0,4} + {a}_{0,2} {a}_{2,3} + {a}_{0,2} {a}_{3,4} + {a}_{0,2} {a}_{4,3} + {a}_{0,4} {a}_{1,2} + {a}_{0,4} {a}_{2,3} + {a}_{0,4} {a}_{3,2} + {a}_{0,4} {a}_{4,3} + {a}_{1,2} {a}_{2,3} + {a}_{1,2} {a}_{3,4} + {a}_{1,2} {a}_{4,3} + {a}_{2,3} {a}_{3,4} + {a}_{3,2} {a}_{3,4} + {a}_{3,2} {a}_{4,3}, \\  {a}_{0,2} {a}_{0,4} {a}_{2,3} + {a}_{0,2} {a}_{0,4} {a}_{4,3} + {a}_{0,2} {a}_{2,3} {a}_{3,4} + {a}_{0,4} {a}_{1,2} {a}_{2,3} + {a}_{0,4} {a}_{1,2} {a}_{4,3} + {a}_{0,4} {a}_{3,2} {a}_{4,3} + {a}_{1,2} {a}_{2,3} {a}_{3,4}\\right]$"
      ],
      "text/plain": [
       "[a[0, 2] + a[0, 4] + a[1, 2] + a[2, 1] + a[2, 3] + a[3, 2] + a[3, 4] + a[4, 3]\n",
       ", a[0, 2]⋅a[0, 4] + a[0, 2]⋅a[2, 1] + a[0, 2]⋅a[2, 3] + a[0, 2]⋅a[3, 4] + a[0,\n",
       " 2]⋅a[4, 3] + a[0, 4]⋅a[1, 2] + a[0, 4]⋅a[2, 1] + a[0, 4]⋅a[2, 3] + a[0, 4]⋅a[\n",
       "3, 2] + a[0, 4]⋅a[4, 3] + a[1, 2]⋅a[2, 3] + a[1, 2]⋅a[3, 4] + a[1, 2]⋅a[4, 3] \n",
       "+ a[2, 1]⋅a[2, 3] + a[2, 1]⋅a[3, 2] + a[2, 1]⋅a[3, 4] + a[2, 1]⋅a[4, 3] + a[2,\n",
       " 3]⋅a[3, 4] + a[3, 2]⋅a[3, 4] + a[3, 2]⋅a[4, 3], a[0, 2]⋅a[0, 4]⋅a[2, 1] + a[0\n",
       ", 2]⋅a[0, 4]⋅a[2, 3] + a[0, 2]⋅a[0, 4]⋅a[4, 3] + a[0, 2]⋅a[2, 1]⋅a[2, 3] + a[0\n",
       ", 2]⋅a[2, 1]⋅a[3, 4] + a[0, 2]⋅a[2, 1]⋅a[4, 3] + a[0, 2]⋅a[2, 3]⋅a[3, 4] + a[0\n",
       ", 4]⋅a[1, 2]⋅a[2, 3] + a[0, 4]⋅a[1, 2]⋅a[4, 3] + a[0, 4]⋅a[2, 1]⋅a[2, 3] + a[0\n",
       ", 4]⋅a[2, 1]⋅a[3, 2] + a[0, 4]⋅a[2, 1]⋅a[4, 3] + a[0, 4]⋅a[3, 2]⋅a[4, 3] + a[1\n",
       ", 2]⋅a[2, 3]⋅a[3, 4] + a[2, 1]⋅a[2, 3]⋅a[3, 4] + a[2, 1]⋅a[3, 2]⋅a[3, 4] + a[2\n",
       ", 1]⋅a[3, 2]⋅a[4, 3], a[0, 2]⋅a[0, 4]⋅a[2, 1]⋅a[2, 3] + a[0, 2]⋅a[0, 4]⋅a[2, 1\n",
       "]⋅a[4, 3] + a[0, 2]⋅a[2, 1]⋅a[2, 3]⋅a[3, 4] + a[0, 4]⋅a[2, 1]⋅a[3, 2]⋅a[4, 3],\n",
       " a[0, 2] + a[0, 4] + a[1, 2] + a[2, 3] + a[3, 2] + a[3, 4] + a[4, 3], a[0, 2]⋅\n",
       "a[0, 4] + a[0, 2]⋅a[2, 3] + a[0, 2]⋅a[3, 4] + a[0, 2]⋅a[4, 3] + a[0, 4]⋅a[1, 2\n",
       "] + a[0, 4]⋅a[2, 3] + a[0, 4]⋅a[3, 2] + a[0, 4]⋅a[4, 3] + a[1, 2]⋅a[2, 3] + a[\n",
       "1, 2]⋅a[3, 4] + a[1, 2]⋅a[4, 3] + a[2, 3]⋅a[3, 4] + a[3, 2]⋅a[3, 4] + a[3, 2]⋅\n",
       "a[4, 3], a[0, 2]⋅a[0, 4]⋅a[2, 3] + a[0, 2]⋅a[0, 4]⋅a[4, 3] + a[0, 2]⋅a[2, 3]⋅a\n",
       "[3, 4] + a[0, 4]⋅a[1, 2]⋅a[2, 3] + a[0, 4]⋅a[1, 2]⋅a[4, 3] + a[0, 4]⋅a[3, 2]⋅a\n",
       "[4, 3] + a[1, 2]⋅a[2, 3]⋅a[3, 4]]"
      ]
     },
     "execution_count": 11,
     "metadata": {},
     "output_type": "execute_result"
    }
   ],
   "source": [
    "c = inputOutput(A,1,1,0,1)\n",
    "c"
   ]
  },
  {
   "cell_type": "code",
   "execution_count": 12,
   "metadata": {},
   "outputs": [
    {
     "data": {
      "image/png": "[encoded data removed]",
      "text/latex": [
       "$\\displaystyle \\left[ {a}_{2,1}, \\  {a}_{1,2}, \\  {a}_{0,2}, \\  {a}_{3,2}, \\  {a}_{2,3}, \\  {a}_{4,3}, \\  {a}_{0,4}, \\  {a}_{3,4}\\right]$"
      ],
      "text/plain": [
       "[a[2, 1], a[1, 2], a[0, 2], a[3, 2], a[2, 3], a[4, 3], a[0, 4], a[3, 4]]"
      ]
     },
     "execution_count": 12,
     "metadata": {},
     "output_type": "execute_result"
    }
   ],
   "source": [
    "p = parametersFromEdges([[2],[1,0,3],[2,4],[0,3]])\n",
    "p"
   ]
  },
  {
   "cell_type": "code",
   "execution_count": 13,
   "metadata": {},
   "outputs": [
    {
     "data": {
      "text/latex": [
       "$\\displaystyle \\left[\\begin{matrix}1 & 1 & 1 & 1 & 1 & 1 & 1 & 1\\\\{a}_{0,2} + {a}_{0,4} + {a}_{2,3} + {a}_{3,2} + {a}_{3,4} + {a}_{4,3} & {a}_{0,4} + {a}_{2,3} + {a}_{3,4} + {a}_{4,3} & {a}_{0,4} + {a}_{2,1} + {a}_{2,3} + {a}_{3,4} + {a}_{4,3} & {a}_{0,4} + {a}_{2,1} + {a}_{3,4} + {a}_{4,3} & {a}_{0,2} + {a}_{0,4} + {a}_{1,2} + {a}_{2,1} + {a}_{3,4} & {a}_{0,2} + {a}_{0,4} + {a}_{1,2} + {a}_{2,1} + {a}_{3,2} & {a}_{0,2} + {a}_{1,2} + {a}_{2,1} + {a}_{2,3} + {a}_{3,2} + {a}_{4,3} & {a}_{0,2} + {a}_{1,2} + {a}_{2,1} + {a}_{2,3} + {a}_{3,2}\\\\{a}_{0,2} {a}_{0,4} + {a}_{0,2} {a}_{2,3} + {a}_{0,2} {a}_{3,4} + {a}_{0,2} {a}_{4,3} + {a}_{0,4} {a}_{2,3} + {a}_{0,4} {a}_{3,2} + {a}_{0,4} {a}_{4,3} + {a}_{2,3} {a}_{3,4} + {a}_{3,2} {a}_{3,4} + {a}_{3,2} {a}_{4,3} & {a}_{0,4} {a}_{2,3} + {a}_{0,4} {a}_{4,3} + {a}_{2,3} {a}_{3,4} & {a}_{0,4} {a}_{2,1} + {a}_{0,4} {a}_{2,3} + {a}_{0,4} {a}_{4,3} + {a}_{2,1} {a}_{2,3} + {a}_{2,1} {a}_{3,4} + {a}_{2,1} {a}_{4,3} + {a}_{2,3} {a}_{3,4} & {a}_{0,4} {a}_{2,1} + {a}_{0,4} {a}_{4,3} + {a}_{2,1} {a}_{3,4} + {a}_{2,1} {a}_{4,3} & {a}_{0,2} {a}_{0,4} + {a}_{0,2} {a}_{2,1} + {a}_{0,2} {a}_{3,4} + {a}_{0,4} {a}_{1,2} + {a}_{0,4} {a}_{2,1} + {a}_{1,2} {a}_{3,4} + {a}_{2,1} {a}_{3,4} & {a}_{0,2} {a}_{0,4} + {a}_{0,2} {a}_{2,1} + {a}_{0,4} {a}_{1,2} + {a}_{0,4} {a}_{2,1} + {a}_{0,4} {a}_{3,2} + {a}_{2,1} {a}_{3,2} & {a}_{0,2} {a}_{2,1} + {a}_{0,2} {a}_{2,3} + {a}_{0,2} {a}_{4,3} + {a}_{1,2} {a}_{2,3} + {a}_{1,2} {a}_{4,3} + {a}_{2,1} {a}_{2,3} + {a}_{2,1} {a}_{3,2} + {a}_{2,1} {a}_{4,3} + {a}_{3,2} {a}_{4,3} & {a}_{0,2} {a}_{2,1} + {a}_{0,2} {a}_{2,3} + {a}_{1,2} {a}_{2,3} + {a}_{2,1} {a}_{2,3} + {a}_{2,1} {a}_{3,2}\\\\{a}_{0,2} {a}_{0,4} {a}_{2,3} + {a}_{0,2} {a}_{0,4} {a}_{4,3} + {a}_{0,2} {a}_{2,3} {a}_{3,4} + {a}_{0,4} {a}_{3,2} {a}_{4,3} & 0 & {a}_{0,4} {a}_{2,1} {a}_{2,3} + {a}_{0,4} {a}_{2,1} {a}_{4,3} + {a}_{2,1} {a}_{2,3} {a}_{3,4} & {a}_{0,4} {a}_{2,1} {a}_{4,3} & {a}_{0,2} {a}_{0,4} {a}_{2,1} + {a}_{0,2} {a}_{2,1} {a}_{3,4} & {a}_{0,2} {a}_{0,4} {a}_{2,1} + {a}_{0,4} {a}_{2,1} {a}_{3,2} & {a}_{0,2} {a}_{2,1} {a}_{2,3} + {a}_{0,2} {a}_{2,1} {a}_{4,3} + {a}_{2,1} {a}_{3,2} {a}_{4,3} & {a}_{0,2} {a}_{2,1} {a}_{2,3}\\\\0 & 1 & 1 & 1 & 1 & 1 & 1 & 1\\\\0 & {a}_{0,4} + {a}_{2,3} + {a}_{3,4} + {a}_{4,3} & {a}_{0,4} + {a}_{2,3} + {a}_{3,4} + {a}_{4,3} & {a}_{0,4} + {a}_{3,4} + {a}_{4,3} & {a}_{0,2} + {a}_{0,4} + {a}_{1,2} + {a}_{3,4} & {a}_{0,2} + {a}_{0,4} + {a}_{1,2} + {a}_{3,2} & {a}_{0,2} + {a}_{1,2} + {a}_{2,3} + {a}_{3,2} + {a}_{4,3} & {a}_{0,2} + {a}_{1,2} + {a}_{2,3} + {a}_{3,2}\\\\0 & {a}_{0,4} {a}_{2,3} + {a}_{0,4} {a}_{4,3} + {a}_{2,3} {a}_{3,4} & {a}_{0,4} {a}_{2,3} + {a}_{0,4} {a}_{4,3} + {a}_{2,3} {a}_{3,4} & {a}_{0,4} {a}_{4,3} & {a}_{0,2} {a}_{0,4} + {a}_{0,2} {a}_{3,4} + {a}_{0,4} {a}_{1,2} + {a}_{1,2} {a}_{3,4} & {a}_{0,2} {a}_{0,4} + {a}_{0,4} {a}_{1,2} + {a}_{0,4} {a}_{3,2} & {a}_{0,2} {a}_{2,3} + {a}_{0,2} {a}_{4,3} + {a}_{1,2} {a}_{2,3} + {a}_{1,2} {a}_{4,3} + {a}_{3,2} {a}_{4,3} & {a}_{0,2} {a}_{2,3} + {a}_{1,2} {a}_{2,3}\\end{matrix}\\right]$"
      ],
      "text/plain": [
       "⎡                                                                             \n",
       "⎢                                                                             \n",
       "⎢                                                            a[0, 2] + a[0, 4]\n",
       "⎢                                                                             \n",
       "⎢a[0, 2]⋅a[0, 4] + a[0, 2]⋅a[2, 3] + a[0, 2]⋅a[3, 4] + a[0, 2]⋅a[4, 3] + a[0, \n",
       "⎢                                                                             \n",
       "⎢                                      a[0, 2]⋅a[0, 4]⋅a[2, 3] + a[0, 2]⋅a[0, \n",
       "⎢                                                                             \n",
       "⎢                                                                             \n",
       "⎢                                                                             \n",
       "⎢                                                                             \n",
       "⎢                                                                             \n",
       "⎣                                                                             \n",
       "\n",
       "           1                                                                  \n",
       "                                                                              \n",
       " + a[2, 3] + a[3, 2] + a[3, 4] + a[4, 3]                                      \n",
       "                                                                              \n",
       "4]⋅a[2, 3] + a[0, 4]⋅a[3, 2] + a[0, 4]⋅a[4, 3] + a[2, 3]⋅a[3, 4] + a[3, 2]⋅a[3\n",
       "                                                                              \n",
       "4]⋅a[4, 3] + a[0, 2]⋅a[2, 3]⋅a[3, 4] + a[0, 4]⋅a[3, 2]⋅a[4, 3]                \n",
       "                                                                              \n",
       "           0                                                                  \n",
       "                                                                              \n",
       "           0                                                                  \n",
       "                                                                              \n",
       "           0                                                                  \n",
       "\n",
       "                                                 1                            \n",
       "                                                                              \n",
       "                               a[0, 4] + a[2, 3] + a[3, 4] + a[4, 3]          \n",
       "                                                                              \n",
       ", 4] + a[3, 2]⋅a[4, 3]  a[0, 4]⋅a[2, 3] + a[0, 4]⋅a[4, 3] + a[2, 3]⋅a[3, 4]  a\n",
       "                                                                              \n",
       "                                                 0                            \n",
       "                                                                              \n",
       "                                                 1                            \n",
       "                                                                              \n",
       "                               a[0, 4] + a[2, 3] + a[3, 4] + a[4, 3]          \n",
       "                                                                              \n",
       "                        a[0, 4]⋅a[2, 3] + a[0, 4]⋅a[4, 3] + a[2, 3]⋅a[3, 4]   \n",
       "\n",
       "                                                            1                 \n",
       "                                                                              \n",
       "                                     a[0, 4] + a[2, 1] + a[2, 3] + a[3, 4] + a\n",
       "                                                                              \n",
       "[0, 4]⋅a[2, 1] + a[0, 4]⋅a[2, 3] + a[0, 4]⋅a[4, 3] + a[2, 1]⋅a[2, 3] + a[2, 1]\n",
       "                                                                              \n",
       "                       a[0, 4]⋅a[2, 1]⋅a[2, 3] + a[0, 4]⋅a[2, 1]⋅a[4, 3] + a[2\n",
       "                                                                              \n",
       "                                                            1                 \n",
       "                                                                              \n",
       "                                          a[0, 4] + a[2, 3] + a[3, 4] + a[4, 3\n",
       "                                                                              \n",
       "                                   a[0, 4]⋅a[2, 3] + a[0, 4]⋅a[4, 3] + a[2, 3]\n",
       "\n",
       "                                                                              \n",
       "                                                                              \n",
       "[4, 3]                                                        a[0, 4] + a[2, 1\n",
       "                                                                              \n",
       "⋅a[3, 4] + a[2, 1]⋅a[4, 3] + a[2, 3]⋅a[3, 4]  a[0, 4]⋅a[2, 1] + a[0, 4]⋅a[4, 3\n",
       "                                                                              \n",
       ", 1]⋅a[2, 3]⋅a[3, 4]                                                 a[0, 4]⋅a\n",
       "                                                                              \n",
       "                                                                              \n",
       "                                                                              \n",
       "]                                                                  a[0, 4] + a\n",
       "                                                                              \n",
       "⋅a[3, 4]                                                                 a[0, \n",
       "\n",
       "  1                                                                           \n",
       "                                                                              \n",
       "] + a[3, 4] + a[4, 3]                                                        a\n",
       "                                                                              \n",
       "] + a[2, 1]⋅a[3, 4] + a[2, 1]⋅a[4, 3]  a[0, 2]⋅a[0, 4] + a[0, 2]⋅a[2, 1] + a[0\n",
       "                                                                              \n",
       "[2, 1]⋅a[4, 3]                                                              a[\n",
       "                                                                              \n",
       "  1                                                                           \n",
       "                                                                              \n",
       "[3, 4] + a[4, 3]                                                              \n",
       "                                                                              \n",
       "4]⋅a[4, 3]                                                        a[0, 2]⋅a[0,\n",
       "\n",
       "                      1                                                       \n",
       "                                                                              \n",
       "[0, 2] + a[0, 4] + a[1, 2] + a[2, 1] + a[3, 4]                                \n",
       "                                                                              \n",
       ", 2]⋅a[3, 4] + a[0, 4]⋅a[1, 2] + a[0, 4]⋅a[2, 1] + a[1, 2]⋅a[3, 4] + a[2, 1]⋅a\n",
       "                                                                              \n",
       "0, 2]⋅a[0, 4]⋅a[2, 1] + a[0, 2]⋅a[2, 1]⋅a[3, 4]                               \n",
       "                                                                              \n",
       "                      1                                                       \n",
       "                                                                              \n",
       "    a[0, 2] + a[0, 4] + a[1, 2] + a[3, 4]                                     \n",
       "                                                                              \n",
       " 4] + a[0, 2]⋅a[3, 4] + a[0, 4]⋅a[1, 2] + a[1, 2]⋅a[3, 4]                     \n",
       "\n",
       "                                                            1                 \n",
       "                                                                              \n",
       "                                     a[0, 2] + a[0, 4] + a[1, 2] + a[2, 1] + a\n",
       "                                                                              \n",
       "[3, 4]  a[0, 2]⋅a[0, 4] + a[0, 2]⋅a[2, 1] + a[0, 4]⋅a[1, 2] + a[0, 4]⋅a[2, 1] \n",
       "                                                                              \n",
       "                                    a[0, 2]⋅a[0, 4]⋅a[2, 1] + a[0, 4]⋅a[2, 1]⋅\n",
       "                                                                              \n",
       "                                                            1                 \n",
       "                                                                              \n",
       "                                          a[0, 2] + a[0, 4] + a[1, 2] + a[3, 2\n",
       "                                                                              \n",
       "                                   a[0, 2]⋅a[0, 4] + a[0, 4]⋅a[1, 2] + a[0, 4]\n",
       "\n",
       "                                                                              \n",
       "                                                                              \n",
       "[3, 2]                                                                        \n",
       "                                                                              \n",
       "+ a[0, 4]⋅a[3, 2] + a[2, 1]⋅a[3, 2]  a[0, 2]⋅a[2, 1] + a[0, 2]⋅a[2, 3] + a[0, \n",
       "                                                                              \n",
       "a[3, 2]                                                                       \n",
       "                                                                              \n",
       "                                                                              \n",
       "                                                                              \n",
       "]                                                                             \n",
       "                                                                              \n",
       "⋅a[3, 2]                                                                 a[0, \n",
       "\n",
       "                                      1                                       \n",
       "                                                                              \n",
       "          a[0, 2] + a[1, 2] + a[2, 1] + a[2, 3] + a[3, 2] + a[4, 3]           \n",
       "                                                                              \n",
       "2]⋅a[4, 3] + a[1, 2]⋅a[2, 3] + a[1, 2]⋅a[4, 3] + a[2, 1]⋅a[2, 3] + a[2, 1]⋅a[3\n",
       "                                                                              \n",
       " a[0, 2]⋅a[2, 1]⋅a[2, 3] + a[0, 2]⋅a[2, 1]⋅a[4, 3] + a[2, 1]⋅a[3, 2]⋅a[4, 3]  \n",
       "                                                                              \n",
       "                                      1                                       \n",
       "                                                                              \n",
       "               a[0, 2] + a[1, 2] + a[2, 3] + a[3, 2] + a[4, 3]                \n",
       "                                                                              \n",
       "2]⋅a[2, 3] + a[0, 2]⋅a[4, 3] + a[1, 2]⋅a[2, 3] + a[1, 2]⋅a[4, 3] + a[3, 2]⋅a[4\n",
       "\n",
       "                                                                              \n",
       "                                                                              \n",
       "                                                              a[0, 2] + a[1, 2\n",
       "                                                                              \n",
       ", 2] + a[2, 1]⋅a[4, 3] + a[3, 2]⋅a[4, 3]  a[0, 2]⋅a[2, 1] + a[0, 2]⋅a[2, 3] + \n",
       "                                                                              \n",
       "                                                                          a[0,\n",
       "                                                                              \n",
       "                                                                              \n",
       "                                                                              \n",
       "                                                                   a[0, 2] + a\n",
       "                                                                              \n",
       ", 3]                                                                 a[0, 2]⋅a\n",
       "\n",
       "       1                                           ⎤\n",
       "                                                   ⎥\n",
       "] + a[2, 1] + a[2, 3] + a[3, 2]                    ⎥\n",
       "                                                   ⎥\n",
       "a[1, 2]⋅a[2, 3] + a[2, 1]⋅a[2, 3] + a[2, 1]⋅a[3, 2]⎥\n",
       "                                                   ⎥\n",
       " 2]⋅a[2, 1]⋅a[2, 3]                                ⎥\n",
       "                                                   ⎥\n",
       "       1                                           ⎥\n",
       "                                                   ⎥\n",
       "[1, 2] + a[2, 3] + a[3, 2]                         ⎥\n",
       "                                                   ⎥\n",
       "[2, 3] + a[1, 2]⋅a[2, 3]                           ⎦"
      ]
     },
     "execution_count": 13,
     "metadata": {},
     "output_type": "execute_result"
    }
   ],
   "source": [
    "J = modelJacobian(p,c)\n",
    "J"
   ]
  },
  {
   "cell_type": "code",
   "execution_count": 16,
   "metadata": {},
   "outputs": [
    {
     "data": {
      "image/png": "[encoded data removed]",
      "text/latex": [
       "$\\displaystyle 7$"
      ],
      "text/plain": [
       "7"
      ]
     },
     "execution_count": 16,
     "metadata": {},
     "output_type": "execute_result"
    }
   ],
   "source": [
    "J.rank()"
   ]
  },
  {
   "cell_type": "code",
   "execution_count": 15,
   "metadata": {},
   "outputs": [
    {
     "data": {
      "text/latex": [
       "$\\displaystyle \\left[\\begin{matrix}1 & 1 & 1 & 1 & 1 & 1 & 1 & 1\\\\{a}_{0,2} + {a}_{0,4} + {a}_{2,3} + {a}_{3,2} + {a}_{3,4} + {a}_{4,3} & {a}_{0,4} + {a}_{2,3} + {a}_{3,4} + {a}_{4,3} & {a}_{0,4} + {a}_{2,1} + {a}_{2,3} + {a}_{3,4} + {a}_{4,3} & {a}_{0,4} + {a}_{2,1} + {a}_{3,4} + {a}_{4,3} & {a}_{0,2} + {a}_{0,4} + {a}_{1,2} + {a}_{2,1} + {a}_{3,4} & {a}_{0,2} + {a}_{0,4} + {a}_{1,2} + {a}_{2,1} + {a}_{3,2} & {a}_{0,2} + {a}_{1,2} + {a}_{2,1} + {a}_{2,3} + {a}_{3,2} + {a}_{4,3} & {a}_{0,2} + {a}_{1,2} + {a}_{2,1} + {a}_{2,3} + {a}_{3,2}\\\\{a}_{0,2} {a}_{0,4} + {a}_{0,2} {a}_{2,3} + {a}_{0,2} {a}_{3,4} + {a}_{0,2} {a}_{4,3} + {a}_{0,4} {a}_{2,3} + {a}_{0,4} {a}_{3,2} + {a}_{0,4} {a}_{4,3} + {a}_{2,3} {a}_{3,4} + {a}_{3,2} {a}_{3,4} + {a}_{3,2} {a}_{4,3} & {a}_{0,4} {a}_{2,3} + {a}_{0,4} {a}_{4,3} + {a}_{2,3} {a}_{3,4} & {a}_{0,4} {a}_{2,1} + {a}_{0,4} {a}_{2,3} + {a}_{0,4} {a}_{4,3} + {a}_{2,1} {a}_{2,3} + {a}_{2,1} {a}_{3,4} + {a}_{2,1} {a}_{4,3} + {a}_{2,3} {a}_{3,4} & {a}_{0,4} {a}_{2,1} + {a}_{0,4} {a}_{4,3} + {a}_{2,1} {a}_{3,4} + {a}_{2,1} {a}_{4,3} & {a}_{0,2} {a}_{0,4} + {a}_{0,2} {a}_{2,1} + {a}_{0,2} {a}_{3,4} + {a}_{0,4} {a}_{1,2} + {a}_{0,4} {a}_{2,1} + {a}_{1,2} {a}_{3,4} + {a}_{2,1} {a}_{3,4} & {a}_{0,2} {a}_{0,4} + {a}_{0,2} {a}_{2,1} + {a}_{0,4} {a}_{1,2} + {a}_{0,4} {a}_{2,1} + {a}_{0,4} {a}_{3,2} + {a}_{2,1} {a}_{3,2} & {a}_{0,2} {a}_{2,1} + {a}_{0,2} {a}_{2,3} + {a}_{0,2} {a}_{4,3} + {a}_{1,2} {a}_{2,3} + {a}_{1,2} {a}_{4,3} + {a}_{2,1} {a}_{2,3} + {a}_{2,1} {a}_{3,2} + {a}_{2,1} {a}_{4,3} + {a}_{3,2} {a}_{4,3} & {a}_{0,2} {a}_{2,1} + {a}_{0,2} {a}_{2,3} + {a}_{1,2} {a}_{2,3} + {a}_{2,1} {a}_{2,3} + {a}_{2,1} {a}_{3,2}\\\\{a}_{0,2} {a}_{0,4} {a}_{2,3} + {a}_{0,2} {a}_{0,4} {a}_{4,3} + {a}_{0,2} {a}_{2,3} {a}_{3,4} + {a}_{0,4} {a}_{3,2} {a}_{4,3} & 0 & {a}_{0,4} {a}_{2,1} {a}_{2,3} + {a}_{0,4} {a}_{2,1} {a}_{4,3} + {a}_{2,1} {a}_{2,3} {a}_{3,4} & {a}_{0,4} {a}_{2,1} {a}_{4,3} & {a}_{0,2} {a}_{0,4} {a}_{2,1} + {a}_{0,2} {a}_{2,1} {a}_{3,4} & {a}_{0,2} {a}_{0,4} {a}_{2,1} + {a}_{0,4} {a}_{2,1} {a}_{3,2} & {a}_{0,2} {a}_{2,1} {a}_{2,3} + {a}_{0,2} {a}_{2,1} {a}_{4,3} + {a}_{2,1} {a}_{3,2} {a}_{4,3} & {a}_{0,2} {a}_{2,1} {a}_{2,3}\\\\0 & 1 & 1 & 1 & 1 & 1 & 1 & 1\\\\0 & {a}_{0,4} + {a}_{2,3} + {a}_{3,4} + {a}_{4,3} & {a}_{0,4} + {a}_{2,3} + {a}_{3,4} + {a}_{4,3} & {a}_{0,4} + {a}_{3,4} + {a}_{4,3} & {a}_{0,2} + {a}_{0,4} + {a}_{1,2} + {a}_{3,4} & {a}_{0,2} + {a}_{0,4} + {a}_{1,2} + {a}_{3,2} & {a}_{0,2} + {a}_{1,2} + {a}_{2,3} + {a}_{3,2} + {a}_{4,3} & {a}_{0,2} + {a}_{1,2} + {a}_{2,3} + {a}_{3,2}\\\\0 & {a}_{0,4} {a}_{2,3} + {a}_{0,4} {a}_{4,3} + {a}_{2,3} {a}_{3,4} & {a}_{0,4} {a}_{2,3} + {a}_{0,4} {a}_{4,3} + {a}_{2,3} {a}_{3,4} & {a}_{0,4} {a}_{4,3} & {a}_{0,2} {a}_{0,4} + {a}_{0,2} {a}_{3,4} + {a}_{0,4} {a}_{1,2} + {a}_{1,2} {a}_{3,4} & {a}_{0,2} {a}_{0,4} + {a}_{0,4} {a}_{1,2} + {a}_{0,4} {a}_{3,2} & {a}_{0,2} {a}_{2,3} + {a}_{0,2} {a}_{4,3} + {a}_{1,2} {a}_{2,3} + {a}_{1,2} {a}_{4,3} + {a}_{3,2} {a}_{4,3} & {a}_{0,2} {a}_{2,3} + {a}_{1,2} {a}_{2,3}\\\\1 & 0 & 0 & 0 & 0 & 0 & 0 & 0\\end{matrix}\\right]$"
      ],
      "text/plain": [
       "⎡                                                                             \n",
       "⎢                                                                             \n",
       "⎢                                                            a[0, 2] + a[0, 4]\n",
       "⎢                                                                             \n",
       "⎢a[0, 2]⋅a[0, 4] + a[0, 2]⋅a[2, 3] + a[0, 2]⋅a[3, 4] + a[0, 2]⋅a[4, 3] + a[0, \n",
       "⎢                                                                             \n",
       "⎢                                      a[0, 2]⋅a[0, 4]⋅a[2, 3] + a[0, 2]⋅a[0, \n",
       "⎢                                                                             \n",
       "⎢                                                                             \n",
       "⎢                                                                             \n",
       "⎢                                                                             \n",
       "⎢                                                                             \n",
       "⎢                                                                             \n",
       "⎢                                                                             \n",
       "⎣                                                                             \n",
       "\n",
       "           1                                                                  \n",
       "                                                                              \n",
       " + a[2, 3] + a[3, 2] + a[3, 4] + a[4, 3]                                      \n",
       "                                                                              \n",
       "4]⋅a[2, 3] + a[0, 4]⋅a[3, 2] + a[0, 4]⋅a[4, 3] + a[2, 3]⋅a[3, 4] + a[3, 2]⋅a[3\n",
       "                                                                              \n",
       "4]⋅a[4, 3] + a[0, 2]⋅a[2, 3]⋅a[3, 4] + a[0, 4]⋅a[3, 2]⋅a[4, 3]                \n",
       "                                                                              \n",
       "           0                                                                  \n",
       "                                                                              \n",
       "           0                                                                  \n",
       "                                                                              \n",
       "           0                                                                  \n",
       "                                                                              \n",
       "           1                                                                  \n",
       "\n",
       "                                                 1                            \n",
       "                                                                              \n",
       "                               a[0, 4] + a[2, 3] + a[3, 4] + a[4, 3]          \n",
       "                                                                              \n",
       ", 4] + a[3, 2]⋅a[4, 3]  a[0, 4]⋅a[2, 3] + a[0, 4]⋅a[4, 3] + a[2, 3]⋅a[3, 4]  a\n",
       "                                                                              \n",
       "                                                 0                            \n",
       "                                                                              \n",
       "                                                 1                            \n",
       "                                                                              \n",
       "                               a[0, 4] + a[2, 3] + a[3, 4] + a[4, 3]          \n",
       "                                                                              \n",
       "                        a[0, 4]⋅a[2, 3] + a[0, 4]⋅a[4, 3] + a[2, 3]⋅a[3, 4]   \n",
       "                                                                              \n",
       "                                                 0                            \n",
       "\n",
       "                                                            1                 \n",
       "                                                                              \n",
       "                                     a[0, 4] + a[2, 1] + a[2, 3] + a[3, 4] + a\n",
       "                                                                              \n",
       "[0, 4]⋅a[2, 1] + a[0, 4]⋅a[2, 3] + a[0, 4]⋅a[4, 3] + a[2, 1]⋅a[2, 3] + a[2, 1]\n",
       "                                                                              \n",
       "                       a[0, 4]⋅a[2, 1]⋅a[2, 3] + a[0, 4]⋅a[2, 1]⋅a[4, 3] + a[2\n",
       "                                                                              \n",
       "                                                            1                 \n",
       "                                                                              \n",
       "                                          a[0, 4] + a[2, 3] + a[3, 4] + a[4, 3\n",
       "                                                                              \n",
       "                                   a[0, 4]⋅a[2, 3] + a[0, 4]⋅a[4, 3] + a[2, 3]\n",
       "                                                                              \n",
       "                                                            0                 \n",
       "\n",
       "                                                                              \n",
       "                                                                              \n",
       "[4, 3]                                                        a[0, 4] + a[2, 1\n",
       "                                                                              \n",
       "⋅a[3, 4] + a[2, 1]⋅a[4, 3] + a[2, 3]⋅a[3, 4]  a[0, 4]⋅a[2, 1] + a[0, 4]⋅a[4, 3\n",
       "                                                                              \n",
       ", 1]⋅a[2, 3]⋅a[3, 4]                                                 a[0, 4]⋅a\n",
       "                                                                              \n",
       "                                                                              \n",
       "                                                                              \n",
       "]                                                                  a[0, 4] + a\n",
       "                                                                              \n",
       "⋅a[3, 4]                                                                 a[0, \n",
       "                                                                              \n",
       "                                                                              \n",
       "\n",
       "  1                                                                           \n",
       "                                                                              \n",
       "] + a[3, 4] + a[4, 3]                                                        a\n",
       "                                                                              \n",
       "] + a[2, 1]⋅a[3, 4] + a[2, 1]⋅a[4, 3]  a[0, 2]⋅a[0, 4] + a[0, 2]⋅a[2, 1] + a[0\n",
       "                                                                              \n",
       "[2, 1]⋅a[4, 3]                                                              a[\n",
       "                                                                              \n",
       "  1                                                                           \n",
       "                                                                              \n",
       "[3, 4] + a[4, 3]                                                              \n",
       "                                                                              \n",
       "4]⋅a[4, 3]                                                        a[0, 2]⋅a[0,\n",
       "                                                                              \n",
       "  0                                                                           \n",
       "\n",
       "                      1                                                       \n",
       "                                                                              \n",
       "[0, 2] + a[0, 4] + a[1, 2] + a[2, 1] + a[3, 4]                                \n",
       "                                                                              \n",
       ", 2]⋅a[3, 4] + a[0, 4]⋅a[1, 2] + a[0, 4]⋅a[2, 1] + a[1, 2]⋅a[3, 4] + a[2, 1]⋅a\n",
       "                                                                              \n",
       "0, 2]⋅a[0, 4]⋅a[2, 1] + a[0, 2]⋅a[2, 1]⋅a[3, 4]                               \n",
       "                                                                              \n",
       "                      1                                                       \n",
       "                                                                              \n",
       "    a[0, 2] + a[0, 4] + a[1, 2] + a[3, 4]                                     \n",
       "                                                                              \n",
       " 4] + a[0, 2]⋅a[3, 4] + a[0, 4]⋅a[1, 2] + a[1, 2]⋅a[3, 4]                     \n",
       "                                                                              \n",
       "                      0                                                       \n",
       "\n",
       "                                                            1                 \n",
       "                                                                              \n",
       "                                     a[0, 2] + a[0, 4] + a[1, 2] + a[2, 1] + a\n",
       "                                                                              \n",
       "[3, 4]  a[0, 2]⋅a[0, 4] + a[0, 2]⋅a[2, 1] + a[0, 4]⋅a[1, 2] + a[0, 4]⋅a[2, 1] \n",
       "                                                                              \n",
       "                                    a[0, 2]⋅a[0, 4]⋅a[2, 1] + a[0, 4]⋅a[2, 1]⋅\n",
       "                                                                              \n",
       "                                                            1                 \n",
       "                                                                              \n",
       "                                          a[0, 2] + a[0, 4] + a[1, 2] + a[3, 2\n",
       "                                                                              \n",
       "                                   a[0, 2]⋅a[0, 4] + a[0, 4]⋅a[1, 2] + a[0, 4]\n",
       "                                                                              \n",
       "                                                            0                 \n",
       "\n",
       "                                                                              \n",
       "                                                                              \n",
       "[3, 2]                                                                        \n",
       "                                                                              \n",
       "+ a[0, 4]⋅a[3, 2] + a[2, 1]⋅a[3, 2]  a[0, 2]⋅a[2, 1] + a[0, 2]⋅a[2, 3] + a[0, \n",
       "                                                                              \n",
       "a[3, 2]                                                                       \n",
       "                                                                              \n",
       "                                                                              \n",
       "                                                                              \n",
       "]                                                                             \n",
       "                                                                              \n",
       "⋅a[3, 2]                                                                 a[0, \n",
       "                                                                              \n",
       "                                                                              \n",
       "\n",
       "                                      1                                       \n",
       "                                                                              \n",
       "          a[0, 2] + a[1, 2] + a[2, 1] + a[2, 3] + a[3, 2] + a[4, 3]           \n",
       "                                                                              \n",
       "2]⋅a[4, 3] + a[1, 2]⋅a[2, 3] + a[1, 2]⋅a[4, 3] + a[2, 1]⋅a[2, 3] + a[2, 1]⋅a[3\n",
       "                                                                              \n",
       " a[0, 2]⋅a[2, 1]⋅a[2, 3] + a[0, 2]⋅a[2, 1]⋅a[4, 3] + a[2, 1]⋅a[3, 2]⋅a[4, 3]  \n",
       "                                                                              \n",
       "                                      1                                       \n",
       "                                                                              \n",
       "               a[0, 2] + a[1, 2] + a[2, 3] + a[3, 2] + a[4, 3]                \n",
       "                                                                              \n",
       "2]⋅a[2, 3] + a[0, 2]⋅a[4, 3] + a[1, 2]⋅a[2, 3] + a[1, 2]⋅a[4, 3] + a[3, 2]⋅a[4\n",
       "                                                                              \n",
       "                                      0                                       \n",
       "\n",
       "                                                                              \n",
       "                                                                              \n",
       "                                                              a[0, 2] + a[1, 2\n",
       "                                                                              \n",
       ", 2] + a[2, 1]⋅a[4, 3] + a[3, 2]⋅a[4, 3]  a[0, 2]⋅a[2, 1] + a[0, 2]⋅a[2, 3] + \n",
       "                                                                              \n",
       "                                                                          a[0,\n",
       "                                                                              \n",
       "                                                                              \n",
       "                                                                              \n",
       "                                                                   a[0, 2] + a\n",
       "                                                                              \n",
       ", 3]                                                                 a[0, 2]⋅a\n",
       "                                                                              \n",
       "                                                                              \n",
       "\n",
       "       1                                           ⎤\n",
       "                                                   ⎥\n",
       "] + a[2, 1] + a[2, 3] + a[3, 2]                    ⎥\n",
       "                                                   ⎥\n",
       "a[1, 2]⋅a[2, 3] + a[2, 1]⋅a[2, 3] + a[2, 1]⋅a[3, 2]⎥\n",
       "                                                   ⎥\n",
       " 2]⋅a[2, 1]⋅a[2, 3]                                ⎥\n",
       "                                                   ⎥\n",
       "       1                                           ⎥\n",
       "                                                   ⎥\n",
       "[1, 2] + a[2, 3] + a[3, 2]                         ⎥\n",
       "                                                   ⎥\n",
       "[2, 3] + a[1, 2]⋅a[2, 3]                           ⎥\n",
       "                                                   ⎥\n",
       "       0                                           ⎦"
      ]
     },
     "execution_count": 15,
     "metadata": {},
     "output_type": "execute_result"
    }
   ],
   "source": [
    "augmentedJ = J.col_join(Matrix([[1,0,0,0,0,0,0,0]]))\n",
    "augmentedJ"
   ]
  },
  {
   "cell_type": "code",
   "execution_count": 17,
   "metadata": {},
   "outputs": [
    {
     "name": "stderr",
     "output_type": "stream",
     "text": [
      "Bad pipe message: %s [b'\\xf4\\xc0\\xf4\\xa8\\xf0S;\\xfa\\x0bEH\\xe7XJ)\\xcb\\xa0\\xa7 \\n\\xa9\\xf4=\\xa9R\\x85\\x8ai\\x02\\x18\\x83\\xed\\xd8\\xcf\\xd2\\xcf\\xf0l\\x991\\x1a']\n",
      "Bad pipe message: %s [b'\\xaa\\xb6S\\x89\\x0c\\x1ca]\\xd0\\xd4\\x7f\\xd3q\\xabw\\x8d\\n\\x9a \\x10\\x8eMC&']\n",
      "Bad pipe message: %s [b'\\xc9\\x1ep\\xf4\\xe6^_;\\xd0=}P\\x06\\xc2\\x0c%r\\xc4\\x00\\x00|\\xc0,\\xc00\\x00\\xa3\\x00\\x9f\\xcc\\xa9\\xcc\\xa8\\xcc']\n",
      "Bad pipe message: %s [b\"\\xf3\\x0bF?\\xfaD\\xf0\\xd6\\x08\\xa5\\xd5\\xfe\\xde\\x95d\\xcc\\xa4\\x99\\x00\\x00\\xa6\\xc0,\\xc00\\x00\\xa3\\x00\\x9f\\xcc\\xa9\\xcc\\xa8\\xcc\\xaa\\xc0\\xaf\\xc0\\xad\\xc0\\xa3\\xc0\\x9f\\xc0]\\xc0a\\xc0W\\xc0S\\xc0+\\xc0/\\x00\\xa2\\x00\\x9e\\xc0\\xae\\xc0\\xac\\xc0\\xa2\\xc0\\x9e\\xc0\\\\\\xc0`\\xc0V\\xc0R\\xc0$\\xc0(\\x00k\\x00j\\xc0s\\xc0w\\x00\\xc4\\x00\\xc3\\xc0#\\xc0'\\x00g\\x00@\\xc0r\\xc0v\\x00\\xbe\\x00\\xbd\\xc0\\n\\xc0\\x14\\x009\\x008\\x00\\x88\\x00\\x87\\xc0\"]\n",
      "Bad pipe message: %s [b\">\\x9d\\x12L\\x0f\\xea\\xc9\\x8b\\xd0O\\xa8\\x0f{\\xfa\\xb3\\xcc\\xff\\x1e\\x00\\x00\\xf4\\xc00\\xc0,\\xc0(\\xc0$\\xc0\\x14\\xc0\\n\\x00\\xa5\\x00\\xa3\\x00\\xa1\\x00\\x9f\\x00k\\x00j\\x00i\\x00h\\x009\\x008\\x007\\x006\\x00\\x88\\x00\\x87\\x00\\x86\\x00\\x85\\xc0\\x19\\x00\\xa7\\x00m\\x00:\\x00\\x89\\xc02\\xc0.\\xc0*\\xc0&\\xc0\\x0f\\xc0\\x05\\x00\\x9d\\x00=\\x005\\x00\\x84\\xc0/\\xc0+\\xc0'\\xc0#\\xc0\\x13\\xc0\\t\\x00\\xa4\\x00\\xa2\\x00\\xa0\\x00\\x9e\\x00g\\x00@\\x00?\\x00>\\x003\\x002\\x001\\x000\\x00\\x9a\\x00\\x99\\x00\\x98\\x00\\x97\\x00E\\x00D\\x00C\\x00B\\xc0\\x18\\x00\\xa6\\x00l\\x004\\x00\\x9b\\x00F\\xc01\\xc0-\\xc0)\\xc0\"]\n",
      "Bad pipe message: %s [b'D0Qc\\xb7r\\xe6k\\xfa\\xd6\\x00}k\\xe6\\xe7=\\xf4H\\x00\\x00\\xa2\\xc0\\x14\\xc0\\n\\x009\\x008\\x007\\x006\\x00\\x88\\x00\\x87\\x00\\x86\\x00\\x85\\xc0\\x19\\x00:\\x00\\x89\\xc0\\x0f\\xc0\\x05\\x005\\x00\\x84\\xc0\\x13\\xc0\\t\\x003\\x002\\x001\\x000\\x00\\x9a\\x00\\x99\\x00\\x98\\x00\\x97\\x00E\\x00D\\x00C\\x00B\\xc0\\x18\\x004\\x00\\x9b\\x00F\\xc0\\x0e\\xc0\\x04\\x00/\\x00\\x96\\x00A\\x00\\x07\\xc0\\x11\\xc0\\x07\\xc0\\x16\\x00\\x18\\xc0\\x0c\\xc0\\x02\\x00\\x05\\x00\\x04\\xc0\\x12\\xc0\\x08\\x00\\x16\\x00\\x13\\x00\\x10\\x00\\r\\xc0\\x17\\x00\\x1b\\xc0\\r\\xc0\\x03\\x00\\n\\x00\\x15\\x00\\x12\\x00\\x0f\\x00\\x0c\\x00\\x1a\\x00\\t\\x00\\x14\\x00\\x11\\x00\\x19\\x00\\x08\\x00\\x06\\x00\\x17\\x00\\x03\\xc0\\x10\\xc0\\x06\\xc0\\x15\\xc0\\x0b\\xc0\\x01\\x00\\x02\\x00\\x01\\x00\\xff\\x02\\x01\\x00\\x00C\\x00\\x00\\x00\\x0e\\x00\\x0c\\x00\\x00\\t127.0.0.1']\n",
      "Bad pipe message: %s [b'\\xcd\\x04$6\\xcf\\xad\\xe6\\xfd\\x02K\\x06\\x02\\x1475\\xaf\\x9f\\xbd\\x00\\x00>\\xc0\\x14\\xc0\\n\\x009\\x008\\x007\\x006\\xc0\\x0f\\xc0\\x05\\x005\\xc0\\x13\\xc0\\t\\x003\\x002\\x001\\x000\\xc0\\x0e\\xc0\\x04\\x00/\\x00\\x9a\\x00\\x99\\x00\\x98\\x00\\x97\\x00\\x96\\x00\\x07\\xc0\\x11\\xc0\\x07\\xc0\\x0c\\xc0\\x02\\x00\\x05\\x00\\x04\\x00\\xff\\x02\\x01\\x00\\x00C\\x00\\x00\\x00\\x0e\\x00\\x0c\\x00\\x00\\t12']\n",
      "Bad pipe message: %s [b'e\\x8e\\xc9S\\xf0Dp\\x8aVV\\xf9aNO3\\xcbs\\xb7\\x00\\x00\\xa2\\xc0\\x14\\xc0\\n\\x009\\x008\\x007\\x006\\x00\\x88\\x00\\x87\\x00\\x86\\x00\\x85\\xc0\\x19\\x00:\\x00\\x89\\xc0\\x0f\\xc0\\x05\\x005\\x00\\x84\\xc0\\x13\\xc0\\t\\x003\\x002\\x001\\x000\\x00\\x9a\\x00\\x99\\x00\\x98\\x00\\x97\\x00E\\x00D\\x00C\\x00B\\xc0\\x18\\x004\\x00\\x9b\\x00F\\xc0\\x0e\\xc0\\x04\\x00/\\x00\\x96\\x00A\\x00\\x07\\xc0\\x11\\xc0\\x07\\xc0\\x16\\x00\\x18\\xc0\\x0c\\xc0\\x02\\x00\\x05\\x00\\x04\\xc0\\x12\\xc0\\x08\\x00\\x16\\x00\\x13\\x00\\x10\\x00\\r\\xc0\\x17\\x00\\x1b\\xc0\\r\\xc0\\x03\\x00\\n\\x00\\x15\\x00\\x12\\x00\\x0f\\x00\\x0c\\x00\\x1a\\x00\\t\\x00\\x14\\x00\\x11\\x00\\x19\\x00\\x08\\x00\\x06\\x00\\x17\\x00', b'\\x10\\xc0']\n",
      "Bad pipe message: %s [b\"M\\x15c\\xa76\\xad\\x13f\\n2\\xe9Vp\\xb1R\\xbeX\\xbd\\x00\\x00\\x86\\xc00\\xc0,\\xc0(\\xc0$\\xc0\\x14\\xc0\\n\\x00\\xa5\\x00\\xa3\\x00\\xa1\\x00\\x9f\\x00k\\x00j\\x00i\\x00h\\x009\\x008\\x007\\x006\\xc02\\xc0.\\xc0*\\xc0&\\xc0\\x0f\\xc0\\x05\\x00\\x9d\\x00=\\x005\\xc0/\\xc0+\\xc0'\\xc0#\\xc0\\x13\\xc0\\t\\x00\\xa4\\x00\"]\n",
      "Bad pipe message: %s [b'\\xf2\\x94LM\\xb38(\\x1d\\x00\\x08\\x13\\x02\\x13\\x03\\x13\\x01']\n",
      "Bad pipe message: %s [b'\\xa0\\x00\\x9e\\x00g\\x00@\\x00?\\x00>\\x003\\x002\\x001\\x000\\xc01\\xc0-\\xc0)\\xc0%\\xc0\\x0e\\xc0\\x04\\x00\\x9c\\x00<\\x00/\\x00\\x9a\\x00\\x99\\x00\\x98\\x00\\x97\\x00\\x96\\x00\\x07\\xc0\\x11\\xc0\\x07\\xc0\\x0c\\xc0\\x02\\x00\\x05\\x00\\x04\\x00\\xff\\x02\\x01\\x00\\x00g\\x00\\x00\\x00\\x0e\\x00\\x0c\\x00\\x00\\t127.0.0.1\\x00\\x0b\\x00\\x04\\x03\\x00\\x01\\x02\\x00\\n\\x00\\x1c\\x00\\x1a\\x00\\x17\\x00\\x19\\x00\\x1c\\x00\\x1b\\x00\\x18\\x00\\x1a\\x00\\x16\\x00\\x0e\\x00\\r\\x00\\x0b\\x00\\x0c\\x00\\t\\x00\\n\\x00#\\x00\\x00\\x00\\r\\x00 \\x00\\x1e\\x06\\x01\\x06\\x02\\x06\\x03\\x05\\x01\\x05\\x02\\x05\\x03\\x04\\x01\\x04\\x02\\x04\\x03\\x03\\x01\\x03\\x02\\x03\\x03\\x02']\n",
      "Bad pipe message: %s [b\"\\xaf\\xc0\\xad\\xc0\\xa3\\xc0\\x9f\\xc0]\\xc0a\\xc0W\\xc0S\\xc0+\\xc0/\\x00\\xa2\\x00\\x9e\\xc0\\xae\\xc0\\xac\\xc0\\xa2\\xc0\\x9e\\xc0\\\\\\xc0`\\xc0V\\xc0R\\xc0$\\xc0(\\x00k\\x00j\\xc0#\\xc0'\\x00g\\x00@\\xc0\\n\\xc0\\x14\\x009\\x008\\xc0\\t\\xc0\\x13\\x003\\x002\\x00\\x9d\\xc0\\xa1\\xc0\\x9d\\xc0Q\\x00\\x9c\\xc0\\xa0\\xc0\\x9c\\xc0P\\x00=\\x00<\\x005\\x00/\\x00\\x9a\\x00\\x99\\xc0\\x07\\xc0\\x11\\x00\\x96\\x00\\x05\\x00\\xff\\x01\\x00\\x00j\\x00\\x00\\x00\\x0e\\x00\\x0c\\x00\\x00\\t127.0.0.1\\x00\\x0b\\x00\\x04\\x03\\x00\\x01\\x02\\x00\\n\\x00\\x0c\\x00\\n\\x00\\x1d\\x00\\x17\\x00\\x1e\\x00\\x19\\x00\\x18\\x00#\\x00\\x00\\x00\\x16\\x00\\x00\\x00\\x17\\x00\\x00\\x00\\r\"]\n",
      "Bad pipe message: %s [b'\\x13\\x003\\x002\\x00\\x9a\\x00']\n",
      "Bad pipe message: %s [b'\\x0e\\xc0\\x04\\x00\\x9c\\x00<\\x00/\\x00\\x96\\x00A\\x00\\x07\\xc0\\x11\\xc0\\x07\\xc0\\x16\\x00\\x18\\xc0\\x0c\\xc0\\x02\\x00\\x05\\x00\\x04\\xc0\\x12\\xc0\\x08\\x00']\n",
      "Bad pipe message: %s [b'\\x15\\xc0\\x0b\\xc0\\x01']\n",
      "Bad pipe message: %s [b'0.0.1\\x00\\x0b\\x00\\x04\\x03\\x00\\x01\\x02\\x00\\n\\x00\\x1c\\x00\\x1a\\x00\\x17\\x00\\x19\\x00\\x1c\\x00\\x1b\\x00\\x18\\x00\\x1a\\x00\\x16\\x00\\x0e\\x00\\r\\x00\\x0b\\x00\\x0c\\x00\\t\\x00\\n\\x00#\\x00\\x00\\x00\\x0f\\x00\\x01\\x01']\n",
      "Bad pipe message: %s [b'\\x13\\x00\\x10\\x00\\r\\xc0\\x17\\x00\\x1b\\xc0\\r\\xc0\\x03\\x00\\n\\x00\\x15\\x00\\x12\\x00\\x0f']\n",
      "Bad pipe message: %s [b'']\n",
      "Bad pipe message: %s [b'E\\x00D\\xc0\\x07\\xc0\\x11\\xc0\\x08\\xc0\\x12\\x00\\x16\\x00\\x13\\x00\\x9d\\xc0\\xa1\\xc0\\x9d\\xc0Q\\x00\\x9c\\xc0\\xa0\\xc0\\x9c\\xc0P\\x00=\\x00\\xc0\\x00<\\x00\\xba\\x005\\x00\\x84\\x00/\\x00\\x96\\x00A\\x00\\x05\\x00\\n\\x00\\xff\\x01\\x00\\x00j\\x00\\x00\\x00\\x0e\\x00\\x0c\\x00\\x00\\t127.0.0.1\\x00\\x0b\\x00\\x04\\x03\\x00\\x01\\x02\\x00\\n\\x00\\x0c\\x00\\n\\x00\\x1d\\x00\\x17\\x00\\x1e\\x00\\x19\\x00\\x18\\x00#\\x00\\x00\\x00\\x16\\x00\\x00\\x00\\x17\\x00\\x00\\x00\\r\\x000\\x00.\\x04\\x03\\x05\\x03\\x06\\x03\\x08\\x07\\x08\\x08\\x08\\t\\x08\\n\\x08\\x0b\\x08\\x04\\x08\\x05\\x08\\x06\\x04\\x01\\x05\\x01\\x06\\x01\\x03\\x03\\x02\\x03\\x03']\n",
      "Bad pipe message: %s [b'']\n",
      "Bad pipe message: %s [b'\\x03']\n",
      "Bad pipe message: %s [b'', b'\\x02']\n",
      "Bad pipe message: %s [b'\\x05\\x02\\x06']\n"
     ]
    },
    {
     "data": {
      "image/png": "[encoded data removed]",
      "text/latex": [
       "$\\displaystyle 7$"
      ],
      "text/plain": [
       "7"
      ]
     },
     "execution_count": 17,
     "metadata": {},
     "output_type": "execute_result"
    }
   ],
   "source": [
    "augmentedJ.rank()"
   ]
  },
  {
   "cell_type": "code",
   "execution_count": null,
   "metadata": {},
   "outputs": [],
   "source": []
  }
 ],
 "metadata": {
  "kernelspec": {
   "display_name": "Python 3 (ipykernel)",
   "language": "python",
   "name": "python3"
  },
  "language_info": {
   "codemirror_mode": {
    "name": "ipython",
    "version": 3
   },
   "file_extension": ".py",
   "mimetype": "text/x-python",
   "name": "python",
   "nbconvert_exporter": "python",
   "pygments_lexer": "ipython3",
   "version": "3.10.4"
  },
  "vscode": {
   "interpreter": {
    "hash": "3ad933181bd8a04b432d3370b9dc3b0662ad032c4dfaa4e4f1596c548f763858"
   }
  }
 },
 "nbformat": 4,
 "nbformat_minor": 4
}
