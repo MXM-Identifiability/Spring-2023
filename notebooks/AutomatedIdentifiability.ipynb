{
 "cells": [
  {
   "cell_type": "code",
   "execution_count": 1,
   "metadata": {
    "collapsed": false
   },
   "outputs": [],
   "source": [
    "from sympy import *\n",
    "import copy\n",
    "init_printing(use_unicode=True)"
   ]
  },
  {
   "cell_type": "code",
   "execution_count": 2,
   "metadata": {
    "collapsed": false
   },
   "outputs": [],
   "source": [
    "ddt = symbols('ddt')\n",
    "a = IndexedBase('a')"
   ]
  },
  {
   "cell_type": "code",
   "execution_count": 3,
   "metadata": {
    "collapsed": false
   },
   "outputs": [],
   "source": [
    "def parametersFromEdges(edges):\n",
    "    # edges = [[1 ->], [2 ->], ..., [n ->]], that is, spot i-1 in the list has a list of outgoing edges from compartment i\n",
    "    n = len(edges)\n",
    "    parameters = []\n",
    "    for i in range(n):\n",
    "        for j in edges[i]:\n",
    "            parameters.append(a[j,i+1])\n",
    "    return parameters"
   ]
  },
  {
   "cell_type": "code",
   "execution_count": 4,
   "metadata": {
    "collapsed": false
   },
   "outputs": [],
   "source": [
    "def compartmentalMatrix(edges):\n",
    "    # edges = [[1 ->], [2 ->], ..., [n ->]]\n",
    "    n = len(edges)\n",
    "    A = zeros(n,n)\n",
    "    for i in range(n):\n",
    "        ai = []\n",
    "        for j in edges[i]:\n",
    "            if j!=0:\n",
    "                A[i,j-1] = a[i+1,j]\n",
    "            ai.append(-a[j,i+1])\n",
    "        A[i,i] = sum(ai)\n",
    "    return A"
   ]
  },
  {
   "cell_type": "code",
   "execution_count": 5,
   "metadata": {
    "collapsed": false
   },
   "outputs": [],
   "source": [
    "def inputOutput(A,i,j,L,leak): #A: compartmental matrix, i: input, j: output, L: distance (on graph) from i to j, leak: 1 if there are leaks, 0 if there are no leaks\n",
    "    n = A.shape[0]\n",
    "    dA = ddt*eye(n) - A\n",
    "    dAij = copy.deepcopy(dA)\n",
    "    dAij.row_del(i-1)\n",
    "    dAij.col_del(j-1)\n",
    "    ycoeffs = Poly(det(dA),ddt).coeffs()\n",
    "    ucoeffs = Poly(det(dAij),ddt).coeffs()\n",
    "    ycoeffs.remove(1)\n",
    "    if L==0:\n",
    "        ucoeffs.remove(1)\n",
    "    return ycoeffs + ucoeffs\n",
    "    print(ycoeffs,ucoeffs)\n",
    "    #if leak == 1:\n",
    "    #    nontrivycoeffs = ycoeffs[1:n+1]\n",
    "    #if leak == 0:\n",
    "    #    nontrivycoeffs = ycoeffs[1:n]\n",
    "    #if L == 0:\n",
    "    #    nontrivucoeffs = ucoeffs[1:n]\n",
    "    #if L != 0:\n",
    "    #    nontrivucoeffs = ucoeffs\n",
    "    #print(nontrivycoeffs,nontrivucoeffs)"
   ]
  },
  {
   "cell_type": "code",
   "execution_count": 6,
   "metadata": {
    "collapsed": false
   },
   "outputs": [],
   "source": [
    "def modelJacobian(p,c):\n",
    "    return Matrix(c).jacobian(Matrix(p))"
   ]
  },
  {
   "cell_type": "code",
   "execution_count": 7,
   "metadata": {
    "collapsed": false
   },
   "outputs": [],
   "source": [
    "def isIdentifiable(edges,i,j,L,leak):\n",
    "    p = parametersFromEdges(edges)\n",
    "    A = compartmentalMatrix(edges)\n",
    "    c = inputOutput(A,i,j,L,leak)\n",
    "    J = modelJacobian(p,c)\n",
    "    return J.rank() == J.shape[1]"
   ]
  },
  {
   "cell_type": "markdown",
   "metadata": {
    "collapsed": false
   },
   "source": [
    "### Example below here!"
   ]
  },
  {
   "cell_type": "code",
   "execution_count": 8,
   "metadata": {
    "collapsed": false
   },
   "outputs": [
    {
     "data": {
      "image/png": "[encoded data removed]",
      "text/latex": [
       "$\\displaystyle \\left[\\begin{matrix}- {a}_{0,1} - {a}_{2,1} & {a}_{1,2} & 0\\\\{a}_{2,1} & - {a}_{1,2} - {a}_{3,2} & {a}_{2,3}\\\\0 & {a}_{3,2} & - {a}_{0,3} - {a}_{2,3}\\end{matrix}\\right]$"
      ],
      "text/plain": [
       "⎡-a[0, 1] - a[2, 1]       a[1, 2]                0         ⎤\n",
       "⎢                                                          ⎥\n",
       "⎢     a[2, 1]        -a[1, 2] - a[3, 2]       a[2, 3]      ⎥\n",
       "⎢                                                          ⎥\n",
       "⎣        0                a[3, 2]        -a[0, 3] - a[2, 3]⎦"
      ]
     },
     "execution_count": 8,
     "metadata": {},
     "output_type": "execute_result"
    }
   ],
   "source": [
    "A = compartmentalMatrix([[2,0],[1,3],[2,0]]) #this is the 3-compartment catenary model with leaks on 1 and 3\n",
    "A"
   ]
  },
  {
   "cell_type": "code",
   "execution_count": 9,
   "metadata": {
    "collapsed": false
   },
   "outputs": [
    {
     "data": {
      "image/png": "[encoded data removed]",
      "text/latex": [
       "$\\displaystyle \\left[ {a}_{0,1} + {a}_{0,3} + {a}_{1,2} + {a}_{2,1} + {a}_{2,3} + {a}_{3,2}, \\  {a}_{0,1} {a}_{0,3} + {a}_{0,1} {a}_{1,2} + {a}_{0,1} {a}_{2,3} + {a}_{0,1} {a}_{3,2} + {a}_{0,3} {a}_{1,2} + {a}_{0,3} {a}_{2,1} + {a}_{0,3} {a}_{3,2} + {a}_{1,2} {a}_{2,3} + {a}_{2,1} {a}_{2,3} + {a}_{2,1} {a}_{3,2}, \\  {a}_{0,1} {a}_{0,3} {a}_{1,2} + {a}_{0,1} {a}_{0,3} {a}_{3,2} + {a}_{0,1} {a}_{1,2} {a}_{2,3} + {a}_{0,3} {a}_{2,1} {a}_{3,2}, \\  {a}_{0,3} + {a}_{1,2} + {a}_{2,3} + {a}_{3,2}, \\  {a}_{0,3} {a}_{1,2} + {a}_{0,3} {a}_{3,2} + {a}_{1,2} {a}_{2,3}\\right]$"
      ],
      "text/plain": [
       "[a[0, 1] + a[0, 3] + a[1, 2] + a[2, 1] + a[2, 3] + a[3, 2], a[0, 1]⋅a[0, 3] + \n",
       "a[0, 1]⋅a[1, 2] + a[0, 1]⋅a[2, 3] + a[0, 1]⋅a[3, 2] + a[0, 3]⋅a[1, 2] + a[0, 3\n",
       "]⋅a[2, 1] + a[0, 3]⋅a[3, 2] + a[1, 2]⋅a[2, 3] + a[2, 1]⋅a[2, 3] + a[2, 1]⋅a[3,\n",
       " 2], a[0, 1]⋅a[0, 3]⋅a[1, 2] + a[0, 1]⋅a[0, 3]⋅a[3, 2] + a[0, 1]⋅a[1, 2]⋅a[2, \n",
       "3] + a[0, 3]⋅a[2, 1]⋅a[3, 2], a[0, 3] + a[1, 2] + a[2, 3] + a[3, 2], a[0, 3]⋅a\n",
       "[1, 2] + a[0, 3]⋅a[3, 2] + a[1, 2]⋅a[2, 3]]"
      ]
     },
     "execution_count": 9,
     "metadata": {},
     "output_type": "execute_result"
    }
   ],
   "source": [
    "c = inputOutput(A,1,1,0,1)\n",
    "c"
   ]
  },
  {
   "cell_type": "code",
   "execution_count": 23,
   "metadata": {
    "collapsed": false
   },
   "outputs": [],
   "source": [
    "c2 = poly(c[0]) #ci/di is the coefficient of ith derivative of y/u\n",
    "c1 = poly(c[1])\n",
    "c0 = poly(c[2])\n",
    "d1 = poly(c[3])\n",
    "d0 = poly(c[4])"
   ]
  },
  {
   "cell_type": "code",
   "execution_count": 96,
   "metadata": {
    "collapsed": false
   },
   "outputs": [],
   "source": [
    "x = (b[0,1]-(k-1)*b[2,1],b[0,3]+b[1,2]*(k-1)/k,b[1,2]/k,k*b[2,1],b[2,3]+b[1,2]/k,b[3,2]-b[1,2]/k)"
   ]
  },
  {
   "cell_type": "code",
   "execution_count": 97,
   "metadata": {
    "collapsed": false
   },
   "outputs": [
    {
     "data": {
      "image/png": "[encoded data removed]",
      "text/latex": [
       "$\\displaystyle {b}_{0,1} + {b}_{0,3} + {b}_{1,2} + {b}_{2,1} + {b}_{2,3} + {b}_{3,2}$"
      ],
      "text/plain": [
       "b[0, 1] + b[0, 3] + b[1, 2] + b[2, 1] + b[2, 3] + b[3, 2]"
      ]
     },
     "execution_count": 97,
     "metadata": {},
     "output_type": "execute_result"
    }
   ],
   "source": [
    "simplify(c2.eval(x))"
   ]
  },
  {
   "cell_type": "code",
   "execution_count": 98,
   "metadata": {
    "collapsed": false
   },
   "outputs": [
    {
     "data": {
      "image/png": "[encoded data removed]",
      "text/latex": [
       "$\\displaystyle {b}_{0,3} + {b}_{1,2} + {b}_{2,3} + {b}_{3,2}$"
      ],
      "text/plain": [
       "b[0, 3] + b[1, 2] + b[2, 3] + b[3, 2]"
      ]
     },
     "execution_count": 98,
     "metadata": {},
     "output_type": "execute_result"
    }
   ],
   "source": [
    "simplify(d1.eval((x[1],x[2],x[4],x[5])))"
   ]
  },
  {
   "cell_type": "code",
   "execution_count": 75,
   "metadata": {
    "collapsed": false
   },
   "outputs": [
    {
     "data": {
      "image/png": "[encoded data removed]",
      "text/latex": [
       "$\\displaystyle \\operatorname{Poly}{\\left( {a}_{0,3} + {a}_{1,2} + {a}_{2,3} + {a}_{3,2}, {a}_{0,3}, {a}_{1,2}, {a}_{2,3}, {a}_{3,2}, domain=\\mathbb{Z} \\right)}$"
      ],
      "text/plain": [
       "Poly(a[0, 3] + a[1, 2] + a[2, 3] + a[3, 2], a[0, 3], a[1, 2], a[2, 3], a[3, 2]\n",
       ", domain='ZZ')"
      ]
     },
     "execution_count": 75,
     "metadata": {},
     "output_type": "execute_result"
    }
   ],
   "source": [
    "d1"
   ]
  },
  {
   "cell_type": "code",
   "execution_count": 99,
   "metadata": {
    "collapsed": false,
    "scrolled": true
   },
   "outputs": [
    {
     "data": {
      "image/png": "[encoded data removed]",
      "text/latex": [
       "$\\displaystyle {b}_{0,1} {b}_{0,3} + {b}_{0,1} {b}_{1,2} + {b}_{0,1} {b}_{2,3} + {b}_{0,1} {b}_{3,2} + {b}_{0,3} {b}_{2,1} + {b}_{0,3} {b}_{3,2} + {b}_{1,2} {b}_{3,2} + {b}_{2,1} {b}_{2,3} + {b}_{2,1} {b}_{3,2} + \\frac{{b}_{1,2} {b}_{2,3}}{k} - \\frac{{b}_{1,2} {b}_{3,2}}{k} + \\frac{{b}_{1,2}^{2}}{k^{2}}$"
      ],
      "text/plain": [
       "                                                                              \n",
       "                                                                              \n",
       "b[0, 1]⋅b[0, 3] + b[0, 1]⋅b[1, 2] + b[0, 1]⋅b[2, 3] + b[0, 1]⋅b[3, 2] + b[0, 3\n",
       "                                                                              \n",
       "                                                                              \n",
       "\n",
       "                                                                              \n",
       "                                                                              \n",
       "]⋅b[2, 1] + b[0, 3]⋅b[3, 2] + b[1, 2]⋅b[3, 2] + b[2, 1]⋅b[2, 3] + b[2, 1]⋅b[3,\n",
       "                                                                              \n",
       "                                                                              \n",
       "\n",
       "                                                 2\n",
       "      b[1, 2]⋅b[2, 3]   b[1, 2]⋅b[3, 2]   b[1, 2] \n",
       " 2] + ─────────────── - ─────────────── + ────────\n",
       "             k                 k              2   \n",
       "                                             k    "
      ]
     },
     "execution_count": 99,
     "metadata": {},
     "output_type": "execute_result"
    }
   ],
   "source": [
    "(c1.eval(x))"
   ]
  },
  {
   "cell_type": "code",
   "execution_count": 102,
   "metadata": {
    "collapsed": false
   },
   "outputs": [
    {
     "data": {
      "image/png": "[encoded data removed]",
      "text/latex": [
       "$\\displaystyle {b}_{0,1} {b}_{0,3} {b}_{3,2} + {b}_{0,1} {b}_{1,2} {b}_{3,2} - {b}_{0,3} {b}_{1,2} {b}_{2,1} + {b}_{0,3} {b}_{2,1} {b}_{3,2} - {b}_{1,2}^{2} {b}_{2,1} - {b}_{1,2} {b}_{2,1} {b}_{2,3} + {b}_{1,2} {b}_{2,1} {b}_{3,2} + \\frac{{b}_{0,1} {b}_{1,2} {b}_{2,3}}{k} - \\frac{{b}_{0,1} {b}_{1,2} {b}_{3,2}}{k} + \\frac{{b}_{1,2} {b}_{2,1} {b}_{2,3}}{k} - \\frac{{b}_{1,2} {b}_{2,1} {b}_{3,2}}{k} + \\frac{{b}_{0,1} {b}_{1,2}^{2}}{k^{2}} + \\frac{{b}_{1,2}^{2} {b}_{2,1}}{k^{2}}$"
      ],
      "text/plain": [
       "                                                                              \n",
       "                                                                              \n",
       "b[0, 1]⋅b[0, 3]⋅b[3, 2] + b[0, 1]⋅b[1, 2]⋅b[3, 2] - b[0, 3]⋅b[1, 2]⋅b[2, 1] + \n",
       "                                                                              \n",
       "                                                                              \n",
       "\n",
       "                                                                              \n",
       "                                 2                                            \n",
       "b[0, 3]⋅b[2, 1]⋅b[3, 2] - b[1, 2] ⋅b[2, 1] - b[1, 2]⋅b[2, 1]⋅b[2, 3] + b[1, 2]\n",
       "                                                                              \n",
       "                                                                              \n",
       "\n",
       "                                                                              \n",
       "                   b[0, 1]⋅b[1, 2]⋅b[2, 3]   b[0, 1]⋅b[1, 2]⋅b[3, 2]   b[1, 2]\n",
       "⋅b[2, 1]⋅b[3, 2] + ─────────────────────── - ─────────────────────── + ───────\n",
       "                              k                         k                     \n",
       "                                                                              \n",
       "\n",
       "                                                            2          2      \n",
       "⋅b[2, 1]⋅b[2, 3]   b[1, 2]⋅b[2, 1]⋅b[3, 2]   b[0, 1]⋅b[1, 2]    b[1, 2] ⋅b[2, \n",
       "──────────────── - ─────────────────────── + ──────────────── + ──────────────\n",
       "    k                         k                      2                  2     \n",
       "                                                    k                  k      \n",
       "\n",
       "  \n",
       "1]\n",
       "──\n",
       "  \n",
       "  "
      ]
     },
     "execution_count": 102,
     "metadata": {},
     "output_type": "execute_result"
    }
   ],
   "source": [
    "(c0.eval(x))"
   ]
  },
  {
   "cell_type": "code",
   "execution_count": 105,
   "metadata": {
    "collapsed": false
   },
   "outputs": [
    {
     "data": {
      "image/png": "[encoded data removed]",
      "text/latex": [
       "$\\displaystyle {b}_{0,3} {b}_{3,2} + {b}_{1,2} {b}_{3,2} + \\frac{{b}_{1,2} {b}_{2,3}}{k} - \\frac{{b}_{1,2} {b}_{3,2}}{k} + \\frac{{b}_{1,2}^{2}}{k^{2}}$"
      ],
      "text/plain": [
       "                                                                              \n",
       "                                    b[1, 2]⋅b[2, 3]   b[1, 2]⋅b[3, 2]   b[1, 2\n",
       "b[0, 3]⋅b[3, 2] + b[1, 2]⋅b[3, 2] + ─────────────── - ─────────────── + ──────\n",
       "                                           k                 k              2 \n",
       "                                                                           k  \n",
       "\n",
       " 2\n",
       "] \n",
       "──\n",
       "  \n",
       "  "
      ]
     },
     "execution_count": 105,
     "metadata": {},
     "output_type": "execute_result"
    }
   ],
   "source": [
    "(d0.eval((x[1],x[2],x[4],x[5])))"
   ]
  },
  {
   "cell_type": "code",
   "execution_count": 11,
   "metadata": {
    "collapsed": false,
    "scrolled": true
   },
   "outputs": [
    {
     "data": {
      "image/png": "[encoded data removed]",
      "text/latex": [
       "$\\displaystyle \\left[\\begin{matrix}1 & 1 & 1 & 1 & 1 & 1\\\\{a}_{0,2} + {a}_{2,3} + {a}_{3,2} & {a}_{0,2} + {a}_{1,2} + {a}_{2,3} + {a}_{3,2} & {a}_{0,1} + {a}_{2,3} & {a}_{0,1} + {a}_{2,1} & {a}_{0,1} + {a}_{2,1} + {a}_{2,3} & {a}_{0,1} + {a}_{0,2} + {a}_{1,2} + {a}_{2,1}\\\\{a}_{0,2} {a}_{2,3} & {a}_{0,2} {a}_{2,3} + {a}_{1,2} {a}_{2,3} & {a}_{0,1} {a}_{2,3} & 0 & {a}_{0,1} {a}_{2,3} + {a}_{2,1} {a}_{2,3} & {a}_{0,1} {a}_{0,2} + {a}_{0,1} {a}_{1,2} + {a}_{0,2} {a}_{2,1}\\\\0 & 0 & 1 & 1 & 1 & 1\\\\0 & 0 & {a}_{2,3} & 0 & {a}_{2,3} & {a}_{0,2} + {a}_{1,2}\\end{matrix}\\right]$"
      ],
      "text/plain": [
       "⎡             1                                 1                            1\n",
       "⎢                                                                             \n",
       "⎢a[0, 2] + a[2, 3] + a[3, 2]  a[0, 2] + a[1, 2] + a[2, 3] + a[3, 2]  a[0, 1] +\n",
       "⎢                                                                             \n",
       "⎢      a[0, 2]⋅a[2, 3]          a[0, 2]⋅a[2, 3] + a[1, 2]⋅a[2, 3]     a[0, 1]⋅\n",
       "⎢                                                                             \n",
       "⎢             0                                 0                            1\n",
       "⎢                                                                             \n",
       "⎣             0                                 0                         a[2,\n",
       "\n",
       "                  1                          1                                \n",
       "                                                                              \n",
       " a[2, 3]  a[0, 1] + a[2, 1]     a[0, 1] + a[2, 1] + a[2, 3]            a[0, 1]\n",
       "                                                                              \n",
       "a[2, 3]           0          a[0, 1]⋅a[2, 3] + a[2, 1]⋅a[2, 3]  a[0, 1]⋅a[0, 2\n",
       "                                                                              \n",
       "                  1                          1                                \n",
       "                                                                              \n",
       " 3]               0                       a[2, 3]                             \n",
       "\n",
       "           1                         ⎤\n",
       "                                     ⎥\n",
       " + a[0, 2] + a[1, 2] + a[2, 1]       ⎥\n",
       "                                     ⎥\n",
       "] + a[0, 1]⋅a[1, 2] + a[0, 2]⋅a[2, 1]⎥\n",
       "                                     ⎥\n",
       "           1                         ⎥\n",
       "                                     ⎥\n",
       "   a[0, 2] + a[1, 2]                 ⎦"
      ]
     },
     "execution_count": 11,
     "metadata": {},
     "output_type": "execute_result"
    }
   ],
   "source": [
    "J = modelJacobian(p,c)\n",
    "J"
   ]
  },
  {
   "cell_type": "code",
   "execution_count": 13,
   "metadata": {
    "collapsed": false,
    "scrolled": true
   },
   "outputs": [
    {
     "data": {
      "image/png": "[encoded data removed]",
      "text/latex": [
       "$\\displaystyle 5$"
      ],
      "text/plain": [
       "5"
      ]
     },
     "execution_count": 13,
     "metadata": {},
     "output_type": "execute_result"
    }
   ],
   "source": [
    "J.rank()"
   ]
  },
  {
   "cell_type": "code",
   "execution_count": 16,
   "metadata": {
    "collapsed": false
   },
   "outputs": [
    {
     "data": {
      "image/png": "[encoded data removed]",
      "text/latex": [
       "$\\displaystyle 0$"
      ],
      "text/plain": [
       "0"
      ]
     },
     "execution_count": 16,
     "metadata": {},
     "output_type": "execute_result"
    }
   ],
   "source": [
    "det(J[:,[0,1,2,3,4]]) #excluding da23/dt column"
   ]
  },
  {
   "cell_type": "code",
   "execution_count": 17,
   "metadata": {
    "collapsed": false
   },
   "outputs": [
    {
     "data": {
      "image/png": "[encoded data removed]",
      "text/latex": [
       "$\\displaystyle {a}_{1,2}^{2} {a}_{2,1} {a}_{2,3}$"
      ],
      "text/plain": [
       "       2                \n",
       "a[1, 2] ⋅a[2, 1]⋅a[2, 3]"
      ]
     },
     "execution_count": 17,
     "metadata": {},
     "output_type": "execute_result"
    }
   ],
   "source": [
    "det(J[:,[0,1,2,3,5]]) #excluding da02/dt column"
   ]
  },
  {
   "cell_type": "code",
   "execution_count": 18,
   "metadata": {
    "collapsed": false
   },
   "outputs": [
    {
     "data": {
      "image/png": "[encoded data removed]",
      "text/latex": [
       "$\\displaystyle 0$"
      ],
      "text/plain": [
       "0"
      ]
     },
     "execution_count": 18,
     "metadata": {},
     "output_type": "execute_result"
    }
   ],
   "source": [
    "det(J[:,[0,1,2,4,5]]) #excluding da32/d2 column"
   ]
  },
  {
   "cell_type": "code",
   "execution_count": 19,
   "metadata": {
    "collapsed": false
   },
   "outputs": [
    {
     "data": {
      "image/png": "[encoded data removed]",
      "text/latex": [
       "$\\displaystyle - {a}_{1,2}^{2} {a}_{2,1} {a}_{2,3}$"
      ],
      "text/plain": [
       "        2                \n",
       "-a[1, 2] ⋅a[2, 1]⋅a[2, 3]"
      ]
     },
     "execution_count": 19,
     "metadata": {},
     "output_type": "execute_result"
    }
   ],
   "source": [
    "det(J[:,[0,1,3,4,5]]) #excluding da12/dt column"
   ]
  },
  {
   "cell_type": "code",
   "execution_count": 20,
   "metadata": {
    "collapsed": false
   },
   "outputs": [
    {
     "data": {
      "image/png": "[encoded data removed]",
      "text/latex": [
       "$\\displaystyle {a}_{1,2} {a}_{2,1}^{2} {a}_{2,3}$"
      ],
      "text/plain": [
       "               2        \n",
       "a[1, 2]⋅a[2, 1] ⋅a[2, 3]"
      ]
     },
     "execution_count": 20,
     "metadata": {},
     "output_type": "execute_result"
    }
   ],
   "source": [
    "det(J[:,[0,2,3,4,5]]) #excluding da01/dt column"
   ]
  },
  {
   "cell_type": "code",
   "execution_count": 21,
   "metadata": {
    "collapsed": false
   },
   "outputs": [
    {
     "data": {
      "image/png": "[encoded data removed]",
      "text/latex": [
       "$\\displaystyle {a}_{1,2} {a}_{2,1}^{2} {a}_{2,3}$"
      ],
      "text/plain": [
       "               2        \n",
       "a[1, 2]⋅a[2, 1] ⋅a[2, 3]"
      ]
     },
     "execution_count": 21,
     "metadata": {},
     "output_type": "execute_result"
    }
   ],
   "source": [
    "det(J[:,[1,2,3,4,5]]) #excluding da21/dt column"
   ]
  },
  {
   "cell_type": "markdown",
   "metadata": {
    "collapsed": false
   },
   "source": [
    "The Jacobian minors that are zero are the ones where I exclude the column where I take the derivative with respect to $a_{2,3}$ or $a_{3,2}$."
   ]
  },
  {
   "cell_type": "markdown",
   "metadata": {
    "collapsed": false
   },
   "source": [
    "## BELOW IS FOO"
   ]
  },
  {
   "cell_type": "code",
   "execution_count": 27,
   "metadata": {
    "collapsed": false,
    "scrolled": true
   },
   "outputs": [
    {
     "data": {
      "image/png": "[encoded data removed]",
      "text/latex": [
       "$\\displaystyle {a}_{0,1} {a}_{0,2} + {a}_{0,1} {a}_{1,2} + {a}_{0,1} {a}_{2,3} + {a}_{0,1} {a}_{3,2} + {a}_{0,2} {a}_{2,1} + {a}_{2,1} {a}_{2,3} + {a}_{2,1} {a}_{3,2}$"
      ],
      "text/plain": [
       "a[0, 1]⋅a[0, 2] + a[0, 1]⋅a[1, 2] + a[0, 1]⋅a[2, 3] + a[0, 1]⋅a[3, 2] + a[0, 2\n",
       "]⋅a[2, 1] + a[2, 1]⋅a[2, 3] + a[2, 1]⋅a[3, 2]"
      ]
     },
     "execution_count": 27,
     "metadata": {},
     "output_type": "execute_result"
    }
   ],
   "source": [
    "(c[1]-c[4])"
   ]
  },
  {
   "cell_type": "code",
   "execution_count": 25,
   "metadata": {
    "collapsed": false
   },
   "outputs": [
    {
     "data": {
      "image/png": "[encoded data removed]",
      "text/latex": [
       "$\\displaystyle {a}_{0,2} + {a}_{0,3} + {a}_{2,3} + {a}_{3,2} + {a}_{3,4} + {a}_{4,3}$"
      ],
      "text/plain": [
       "a[0, 2] + a[0, 3] + a[2, 3] + a[3, 2] + a[3, 4] + a[4, 3]"
      ]
     },
     "execution_count": 25,
     "metadata": {},
     "output_type": "execute_result"
    }
   ],
   "source": [
    "simplify((c[1]-c[5])/a[2,1])"
   ]
  },
  {
   "cell_type": "code",
   "execution_count": 29,
   "metadata": {
    "collapsed": false
   },
   "outputs": [
    {
     "data": {
      "image/png": "[encoded data removed]",
      "text/latex": [
       "$\\displaystyle {a}_{0,2} {a}_{0,3} + {a}_{0,2} {a}_{2,3} + {a}_{0,2} {a}_{3,4} + {a}_{0,2} {a}_{4,3} + {a}_{0,3} {a}_{3,2} + {a}_{0,3} {a}_{3,4} + {a}_{2,3} {a}_{3,4} + {a}_{3,2} {a}_{3,4} + {a}_{3,2} {a}_{4,3}$"
      ],
      "text/plain": [
       "a[0, 2]⋅a[0, 3] + a[0, 2]⋅a[2, 3] + a[0, 2]⋅a[3, 4] + a[0, 2]⋅a[4, 3] + a[0, 3\n",
       "]⋅a[3, 2] + a[0, 3]⋅a[3, 4] + a[2, 3]⋅a[3, 4] + a[3, 2]⋅a[3, 4] + a[3, 2]⋅a[4,\n",
       " 3]"
      ]
     },
     "execution_count": 29,
     "metadata": {},
     "output_type": "execute_result"
    }
   ],
   "source": [
    "simplify((c[2]-c[6])/a[2,1])"
   ]
  },
  {
   "cell_type": "code",
   "execution_count": 31,
   "metadata": {
    "collapsed": false
   },
   "outputs": [
    {
     "data": {
      "image/png": "[encoded data removed]",
      "text/latex": [
       "$\\displaystyle {a}_{0,2} {a}_{0,3} + {a}_{0,2} {a}_{2,3} + {a}_{0,2} {a}_{3,4} + {a}_{0,2} {a}_{4,3} + {a}_{0,3} {a}_{1,2} + {a}_{0,3} {a}_{3,2} + {a}_{0,3} {a}_{3,4} + {a}_{1,2} {a}_{2,3} + {a}_{1,2} {a}_{3,4} + {a}_{1,2} {a}_{4,3} + {a}_{2,3} {a}_{3,4} + {a}_{3,2} {a}_{3,4} + {a}_{3,2} {a}_{4,3}$"
      ],
      "text/plain": [
       "a[0, 2]⋅a[0, 3] + a[0, 2]⋅a[2, 3] + a[0, 2]⋅a[3, 4] + a[0, 2]⋅a[4, 3] + a[0, 3\n",
       "]⋅a[1, 2] + a[0, 3]⋅a[3, 2] + a[0, 3]⋅a[3, 4] + a[1, 2]⋅a[2, 3] + a[1, 2]⋅a[3,\n",
       " 4] + a[1, 2]⋅a[4, 3] + a[2, 3]⋅a[3, 4] + a[3, 2]⋅a[3, 4] + a[3, 2]⋅a[4, 3]"
      ]
     },
     "execution_count": 31,
     "metadata": {},
     "output_type": "execute_result"
    }
   ],
   "source": [
    "c[5]"
   ]
  },
  {
   "cell_type": "code",
   "execution_count": null,
   "metadata": {
    "collapsed": false,
    "scrolled": true
   },
   "outputs": [],
   "source": [
    "isIdentifiable([[2],[1,3],[2]],1,2,1,1)"
   ]
  },
  {
   "cell_type": "markdown",
   "metadata": {
    "collapsed": false
   },
   "source": [
    "Example below here is Model 1 from homework sheet."
   ]
  },
  {
   "cell_type": "code",
   "execution_count": null,
   "metadata": {
    "collapsed": false
   },
   "outputs": [],
   "source": [
    "p = parametersFromEdges([[0,2],[0,1,3],[2]])\n",
    "p"
   ]
  },
  {
   "cell_type": "code",
   "execution_count": null,
   "metadata": {
    "collapsed": false
   },
   "outputs": [],
   "source": [
    "A = compartmentalMatrix([[0,2],[0,1,3],[2]])\n",
    "A"
   ]
  },
  {
   "cell_type": "code",
   "execution_count": null,
   "metadata": {
    "collapsed": false
   },
   "outputs": [],
   "source": [
    "c = inputOutput(A,1,2,1,1)\n",
    "c"
   ]
  },
  {
   "cell_type": "code",
   "execution_count": null,
   "metadata": {
    "collapsed": false
   },
   "outputs": [],
   "source": [
    "J = modelJacobian(p,c)\n",
    "J"
   ]
  },
  {
   "cell_type": "code",
   "execution_count": null,
   "metadata": {
    "collapsed": false
   },
   "outputs": [],
   "source": [
    "J.rank() == J.shape[1]"
   ]
  }
 ],
 "metadata": {
  "kernelspec": {
   "display_name": "Python 3",
   "language": "python",
   "name": "python3"
  },
  "language_info": {
   "codemirror_mode": {
    "name": "ipython",
    "version": 3
   },
   "file_extension": ".py",
   "mimetype": "text/x-python",
   "name": "python",
   "nbconvert_exporter": "python",
   "pygments_lexer": "ipython3",
   "version": "3.10.4"
  },
  "vscode": {
   "interpreter": {
    "hash": "3ad933181bd8a04b432d3370b9dc3b0662ad032c4dfaa4e4f1596c548f763858"
   }
  }
 },
 "nbformat": 4,
 "nbformat_minor": 4
}
